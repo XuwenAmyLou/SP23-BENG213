{
 "cells": [
  {
   "cell_type": "markdown",
   "metadata": {},
   "source": [
    "### Homework 1: Statistics\n",
    "\n",
    "Due Date: Monday, April 17, 2023 at Midnight PST (Submit this .ipynb file on Canvas)\n",
    "\n",
    "Your Name: Krishna Brunton\n",
    "\n",
    "<span style=\"color:red\">100 total points</span>"
   ]
  },
  {
   "cell_type": "markdown",
   "metadata": {
    "toc": true
   },
   "source": [
    "<h1>Table of Contents<span class=\"tocSkip\"></span></h1>\n",
    "<div class=\"toc\"><ul class=\"toc-item\"><li><ul class=\"toc-item\"><li><span><a href=\"#Homework-1:-Statistics\" data-toc-modified-id=\"Homework-1:-Statistics-0.1\"><span class=\"toc-item-num\">0.1&nbsp;&nbsp;</span>Homework 1: Statistics</a></span></li></ul></li><li><span><a href=\"#Distributions\" data-toc-modified-id=\"Distributions-1\"><span class=\"toc-item-num\">1&nbsp;&nbsp;</span>Distributions</a></span><ul class=\"toc-item\"><li><span><a href=\"#Distribution-Examples\" data-toc-modified-id=\"Distribution-Examples-1.1\"><span class=\"toc-item-num\">1.1&nbsp;&nbsp;</span>Distribution Examples</a></span><ul class=\"toc-item\"><li><span><a href=\"#Poisson-distribution\" data-toc-modified-id=\"Poisson-distribution-1.1.1\"><span class=\"toc-item-num\">1.1.1&nbsp;&nbsp;</span>Poisson distribution</a></span></li><li><span><a href=\"#Normal-distribution\" data-toc-modified-id=\"Normal-distribution-1.1.2\"><span class=\"toc-item-num\">1.1.2&nbsp;&nbsp;</span>Normal distribution</a></span></li><li><span><a href=\"#Binomial-distribution\" data-toc-modified-id=\"Binomial-distribution-1.1.3\"><span class=\"toc-item-num\">1.1.3&nbsp;&nbsp;</span>Binomial distribution</a></span></li></ul></li><li><span><a href=\"#Assess-the-distribution-of-the-gene-expression-data.\" data-toc-modified-id=\"Assess-the-distribution-of-the-gene-expression-data.-1.2\"><span class=\"toc-item-num\">1.2&nbsp;&nbsp;</span>Assess the distribution of the gene expression data.</a></span><ul class=\"toc-item\"><li><span><a href=\"#Visualize-the-distribution-of-gene-expression-across-conditions-for-the-first-gene,-'b0002'\" data-toc-modified-id=\"Visualize-the-distribution-of-gene-expression-across-conditions-for-the-first-gene,-'b0002'-1.2.1\"><span class=\"toc-item-num\">1.2.1&nbsp;&nbsp;</span>Visualize the distribution of gene expression across conditions for the first gene, 'b0002'</a></span></li><li><span><a href=\"#Characterize-the-distribution\" data-toc-modified-id=\"Characterize-the-distribution-1.2.2\"><span class=\"toc-item-num\">1.2.2&nbsp;&nbsp;</span>Characterize the distribution</a></span></li><li><span><a href=\"#Compare-mean-and-variance-against-robust-estimators\" data-toc-modified-id=\"Compare-mean-and-variance-against-robust-estimators-1.2.3\"><span class=\"toc-item-num\">1.2.3&nbsp;&nbsp;</span>Compare mean and variance against robust estimators</a></span></li><li><span><a href=\"#Assess-Normality-with-a-QQ-Plot\" data-toc-modified-id=\"Assess-Normality-with-a-QQ-Plot-1.2.4\"><span class=\"toc-item-num\">1.2.4&nbsp;&nbsp;</span>Assess Normality with a QQ Plot</a></span></li></ul></li></ul></li><li><span><a href=\"#Hypothesis-Testing\" data-toc-modified-id=\"Hypothesis-Testing-2\"><span class=\"toc-item-num\">2&nbsp;&nbsp;</span>Hypothesis Testing</a></span><ul class=\"toc-item\"><li><span><a href=\"#Generate-p-values-for-each-gene\" data-toc-modified-id=\"Generate-p-values-for-each-gene-2.1\"><span class=\"toc-item-num\">2.1&nbsp;&nbsp;</span>Generate p-values for each gene</a></span><ul class=\"toc-item\"><li><span><a href=\"#Discuss-your-choice-of-tests\" data-toc-modified-id=\"Discuss-your-choice-of-tests-2.1.1\"><span class=\"toc-item-num\">2.1.1&nbsp;&nbsp;</span>Discuss your choice of tests</a></span></li><li><span><a href=\"#Generate-your-p-values\" data-toc-modified-id=\"Generate-your-p-values-2.1.2\"><span class=\"toc-item-num\">2.1.2&nbsp;&nbsp;</span>Generate your p-values</a></span></li></ul></li><li><span><a href=\"#Perform-Multiple-Test-Correction\" data-toc-modified-id=\"Perform-Multiple-Test-Correction-2.2\"><span class=\"toc-item-num\">2.2&nbsp;&nbsp;</span>Perform Multiple Test Correction</a></span></li><li><span><a href=\"#Hypergeometric-Test:-Are-the-significant-genes-regulated-by-Nac?\" data-toc-modified-id=\"Hypergeometric-Test:-Are-the-significant-genes-regulated-by-Nac?-2.3\"><span class=\"toc-item-num\">2.3&nbsp;&nbsp;</span>Hypergeometric Test: Are the significant genes regulated by Nac?</a></span></li></ul></li><li><span><a href=\"#Statistical-Concepts\" data-toc-modified-id=\"Statistical-Concepts-3\"><span class=\"toc-item-num\">3&nbsp;&nbsp;</span>Statistical Concepts</a></span><ul class=\"toc-item\"><li><span><a href=\"#Mindless-Statistics-&amp;-P-value-Debate\" data-toc-modified-id=\"Mindless-Statistics-&amp;-P-value-Debate-3.1\"><span class=\"toc-item-num\">3.1&nbsp;&nbsp;</span>Mindless Statistics &amp; P-value Debate</a></span><ul class=\"toc-item\"><li><span><a href=\"#Define-the-p-value,-statistical-significance,-and-statistical-power.\" data-toc-modified-id=\"Define-the-p-value,-statistical-significance,-and-statistical-power.-3.1.1\"><span class=\"toc-item-num\">3.1.1&nbsp;&nbsp;</span>Define the p-value, statistical significance, and statistical power.</a></span></li><li><span><a href=\"#Two-schools-of-thought\" data-toc-modified-id=\"Two-schools-of-thought-3.1.2\"><span class=\"toc-item-num\">3.1.2&nbsp;&nbsp;</span>Two schools of thought</a></span></li><li><span><a href=\"#True/False\" data-toc-modified-id=\"True/False-3.1.3\"><span class=\"toc-item-num\">3.1.3&nbsp;&nbsp;</span>True/False</a></span></li></ul></li><li><span><a href=\"#Bayesian-Statistics\" data-toc-modified-id=\"Bayesian-Statistics-3.2\"><span class=\"toc-item-num\">3.2&nbsp;&nbsp;</span>Bayesian Statistics</a></span><ul class=\"toc-item\"><li><span><a href=\"#Bayesians-vs.-Frequentists\" data-toc-modified-id=\"Bayesians-vs.-Frequentists-3.2.1\"><span class=\"toc-item-num\">3.2.1&nbsp;&nbsp;</span>Bayesians vs. Frequentists</a></span></li></ul></li></ul></li></ul></div>"
   ]
  },
  {
   "cell_type": "code",
   "execution_count": 1,
   "metadata": {},
   "outputs": [],
   "source": [
    "import numpy as np\n",
    "import pandas as pd\n",
    "import matplotlib.pyplot as plt\n",
    "import seaborn as sns\n",
    "from scipy import stats # this package will be very useful\n",
    "\n",
    "# read in the data\n",
    "file_name = 'Homework_Data.xlsx'\n",
    "\n",
    "data = pd.read_excel(file_name, \n",
    "                     sheet_name = 'Expression Data',\n",
    "                     index_col = 0)\n",
    "sample_table = pd.read_excel(file_name,\n",
    "                             sheet_name = 'Experimental Conditions',\n",
    "                             index_col = 0)\n",
    "gene_table = pd.read_excel(file_name,\n",
    "                           sheet_name = 'Gene Information',\n",
    "                           index_col = 0)"
   ]
  },
  {
   "cell_type": "markdown",
   "metadata": {},
   "source": [
    "## Distributions"
   ]
  },
  {
   "cell_type": "markdown",
   "metadata": {},
   "source": [
    "### Distribution Examples\n",
    "\n",
    "Describe examples of how the following distributions might occur in analysis of biological data. \n",
    "\n",
    "For example, the bernoulli distribution would occur in biology if one where counting the number of mutations in a segment of n nucleotides, each occuring with an equal probability p.\n",
    "\n"
   ]
  },
  {
   "cell_type": "markdown",
   "metadata": {},
   "source": [
    "#### Poisson distribution\n",
    "\n",
    "Describe the probability density function of a Poisson Distribution. Where does it come from? \n",
    "- The pdf of a poisson distribution represents the probability of a given number of events occuring in a given time. For example, this might occur when modeling the frequency of mutations along DNA. \n",
    "\n",
    "- The poisson distribution comes from the scenario of a binomial distribution when the number of the draws (n) approaches infinity while the probability tends to 0. In this case, the product of n and p equal a constant lambda that represents the rate at which an event occurs. \n",
    "\n",
    "What are its first two moments?\n",
    "Use words and an equation, with variables defined. \n",
    "- $$mean = \\lambda$$\n",
    "- $$variance = \\lambda$$\n",
    "How might you observe the Poisson distribution in a biological problem?\n",
    "- Distribution of rare events over a span in time. An example of this is the rate at which a cell aquires mutations.\n",
    "\n",
    "Note that you can use latex notation to add equations to markdown cells in jupyter notebooks. [Brief guide here.](https://medium.com/analytics-vidhya/writing-math-equations-in-jupyter-notebook-a-naive-introduction-a5ce87b9a214) For example:\n",
    "\n",
    "$$y = \\int^{b}_{a}{xdx}$$\n",
    "\n",
    "<span style=\"color:red\">5 points</span>"
   ]
  },
  {
   "cell_type": "markdown",
   "metadata": {},
   "source": [
    "#### Normal distribution\n",
    "\n",
    "Describe its probability density function of a normal distribution. Where does it come from? \n",
    "- The normal distribution is a distribution that represents the result of a random variable. This can be shown throught the central limit theorem. The graph is symmetric and centered around the mean. It has a variance given by the square of the standard deviation.\n",
    "\n",
    "What are its first two moments?\n",
    "- $$mean = \\mu$$\n",
    "- $$variance = \\sigma^2$$\n",
    "\n",
    "How might you observe the normal distribution in a biological problem?\n",
    "- A normal distributution may arise in the case of measurinng height across a population.\n",
    "\n",
    "<span style=\"color:red\">5 points</span>"
   ]
  },
  {
   "cell_type": "markdown",
   "metadata": {},
   "source": []
  },
  {
   "cell_type": "markdown",
   "metadata": {},
   "source": [
    "#### Binomial distribution\n",
    "\n",
    "Describe its probability density function of a binomial distribution. Where does it come from? \n",
    "- It describes the probability of Y successes in n draws with replacement\n",
    "- It comes from repeated bernoulli trials and the probability of each outcome occuring\n",
    "- $$P_Y(y) = \\binom{n}{y} p^y(1-y)^{n-y} $$\n",
    "What are its first two moments?\n",
    "- $$mean = np$$\n",
    "- $$variance = np(1-p)$$\n",
    "How might you observe the binomial distribution in a biological problem?\n",
    "- It might occur when looking at the probability of events occurings given a number of discrete trials such as the probability of a mutation in a sequence of DNA\n",
    "<span style=\"color:red\">5 points</span>"
   ]
  },
  {
   "cell_type": "markdown",
   "metadata": {},
   "source": []
  },
  {
   "cell_type": "markdown",
   "metadata": {},
   "source": [
    "### Assess the distribution of the gene expression data.\n",
    "\n",
    "#### Visualize the distribution of gene expression across conditions for the first gene, 'b0002'\n",
    "\n",
    "<span style=\"color:red\">5 points</span>"
   ]
  },
  {
   "cell_type": "code",
   "execution_count": 117,
   "metadata": {},
   "outputs": [
    {
     "data": {
      "image/png": "[encoded data removed]",
      "text/plain": [
       "<Figure size 864x432 with 1 Axes>"
      ]
     },
     "metadata": {
      "needs_background": "light"
     },
     "output_type": "display_data"
    }
   ],
   "source": [
    "counts, bins = np.histogram(data.iloc[0])\n",
    "plt.figure(figsize=(12,6))\n",
    "plt.hist(bins[:-1], bins, weights=counts)\n",
    "plt.title(\"Histogram of b0002 Gene Expression\")\n",
    "plt.xlabel(\"Gene Expression\")\n",
    "plt.ylabel(\"Count\")\n",
    "plt.xticks(bins);\n"
   ]
  },
  {
   "cell_type": "markdown",
   "metadata": {},
   "source": [
    "#### Characterize the distribution\n",
    "\n",
    "Calculate the mean and variance of the sample distribution. \n",
    "\n",
    "Calculate the standard error of the mean, and the standard deviation. What is the difference in interpretation between them? Why does standard error of the mean depend on sample size?\n",
    "\n",
    "<span style=\"color:red\">5 points</span>"
   ]
  },
  {
   "cell_type": "code",
   "execution_count": 11,
   "metadata": {},
   "outputs": [
    {
     "name": "stdout",
     "output_type": "stream",
     "text": [
      "the mean is: 10.212579887605095\n",
      "the variance is: 1.4979710295148196\n",
      "the standard error of the mean is:  0.12118576849382691\n",
      "the standard deviation is:  1.2239162673626083\n",
      "the sample size is:  102\n"
     ]
    }
   ],
   "source": [
    "from statistics import mean\n",
    "from statistics import variance\n",
    "from statistics import stdev\n",
    "import math\n",
    "b0002 = data.iloc[0]\n",
    "print(\"the mean is:\",mean(b0002))\n",
    "print(\"the variance is:\",variance(b0002))\n",
    "print(\"the standard error of the mean is: \",stdev(b0002)/math.sqrt(len(b0002)))\n",
    "print(\"the standard deviation is: \",stdev(b0002))\n",
    "print(\"the sample size is: \", len(b0002))\n",
    "\n",
    "#print(np.sort(b0002))"
   ]
  },
  {
   "cell_type": "markdown",
   "metadata": {},
   "source": [
    "The standard error of the mean is calculated by dividing the standard deviation by the square root of the sample size. The standard error of the mean represents how closely the sample mean reprsesents the population mean. As the sample size grows, the sample mean becomes closer to the population mean. Standard deviation only tells us how much deviation there is in the sample."
   ]
  },
  {
   "cell_type": "markdown",
   "metadata": {},
   "source": [
    "#### Compare mean and variance against robust estimators\n",
    "\n",
    "Compare the mean and variance of the distribution to robust estimators of central tendency and dispersion, respectively. The \"statsmodels\" python package may be useful.\n",
    "\n",
    "<span style=\"color:red\">10 points</span>"
   ]
  },
  {
   "cell_type": "code",
   "execution_count": 125,
   "metadata": {},
   "outputs": [
    {
     "name": "stdout",
     "output_type": "stream",
     "text": [
      "The median is:  10.583136853665497\n",
      "The mode is:  11.006777101008614\n",
      "The median absolute deviation (MAD) is: 0.6278541832831976\n",
      "The interquartile range is:  1.5918010360186123\n"
     ]
    }
   ],
   "source": [
    "import statsmodels.api as sm\n",
    "import statistics\n",
    "from scipy import stats\n",
    "#robust methods for central tendency\n",
    "print(\"The median is: \",statistics.median(b0002))\n",
    "print(\"The mode is: \", statistics.mode(b0002))\n",
    "\n",
    "#robust methods for dispersion\n",
    "print(\"The median absolute deviation (MAD) is:\", scipy.stats.median_abs_deviation(b0002))\n",
    "print(\"The interquartile range is: \", scipy.stats.iqr(b0002))"
   ]
  },
  {
   "cell_type": "markdown",
   "metadata": {},
   "source": [
    "#### The median and mode are both greater than the mean. This could be because there are some outliers on the lower end of the gene expression profile as shown in the histogram above causing the mean to be brought down.\n",
    "\n",
    "#### The MAD and IQR are robust estimators of dispersion compared to the standard deviation as they are not as affected by outliers."
   ]
  },
  {
   "cell_type": "markdown",
   "metadata": {},
   "source": [
    "#### Assess Normality with a QQ Plot\n",
    "\n",
    "Use a [quantile-quantile plot](https://www.statsmodels.org/stable/generated/statsmodels.graphics.gofplots.qqplot.html#statsmodels.graphics.gofplots.qqplot) of the data to visualize the normality of the distribution, and explain its shape.\n",
    "\n",
    "<span style=\"color:red\">5 points</span>"
   ]
  },
  {
   "cell_type": "code",
   "execution_count": 59,
   "metadata": {},
   "outputs": [
    {
     "data": {
      "image/png": "[encoded data removed]",
      "text/plain": [
       "<Figure size 432x288 with 1 Axes>"
      ]
     },
     "execution_count": 59,
     "metadata": {},
     "output_type": "execute_result"
    },
    {
     "data": {
      "image/png": "[encoded data removed]",
      "text/plain": [
       "<Figure size 432x288 with 1 Axes>"
      ]
     },
     "metadata": {
      "needs_background": "light"
     },
     "output_type": "display_data"
    }
   ],
   "source": [
    "sm.qqplot(b0002, line ='45', fit = 'True')"
   ]
  },
  {
   "cell_type": "markdown",
   "metadata": {},
   "source": [
    "##### The shape the points roughly follow the 45 degree line charted. A sample that is perfectly normally distributed will follow the 45 degree line exactly. Since the points deviate from it only a bit, it shows that the expression of b0002 follows a normal distribution pretty well."
   ]
  },
  {
   "cell_type": "markdown",
   "metadata": {},
   "source": [
    "## Hypothesis Testing\n",
    "\n",
    "Let's take a look at one of the studies in our dataset: the 'Nac/NtrC' Study."
   ]
  },
  {
   "cell_type": "code",
   "execution_count": 3,
   "metadata": {
    "scrolled": true
   },
   "outputs": [
    {
     "data": {
      "text/html": [
       "<div>\n",
       "<style scoped>\n",
       "    .dataframe tbody tr th:only-of-type {\n",
       "        vertical-align: middle;\n",
       "    }\n",
       "\n",
       "    .dataframe tbody tr th {\n",
       "        vertical-align: top;\n",
       "    }\n",
       "\n",
       "    .dataframe thead th {\n",
       "        text-align: right;\n",
       "    }\n",
       "</style>\n",
       "<table border=\"1\" class=\"dataframe\">\n",
       "  <thead>\n",
       "    <tr style=\"text-align: right;\">\n",
       "      <th></th>\n",
       "      <th>Study</th>\n",
       "      <th>Condition ID</th>\n",
       "      <th>Replicate #</th>\n",
       "      <th>Strain Description</th>\n",
       "      <th>Base Media</th>\n",
       "      <th>Carbon Source (g/L)</th>\n",
       "      <th>Nitrogen Source (g/L)</th>\n",
       "      <th>Electron Acceptor</th>\n",
       "      <th>Trace Element Mixture</th>\n",
       "      <th>Supplement</th>\n",
       "      <th>Temperature (C)</th>\n",
       "      <th>pH</th>\n",
       "      <th>Culture Type</th>\n",
       "      <th>Growth Rate (1/hr)</th>\n",
       "      <th>Sequencing Machine</th>\n",
       "      <th>Additional Details</th>\n",
       "      <th>Biological Replicates</th>\n",
       "      <th>DOI</th>\n",
       "      <th>GEO</th>\n",
       "    </tr>\n",
       "    <tr>\n",
       "      <th>Sample ID</th>\n",
       "      <th></th>\n",
       "      <th></th>\n",
       "      <th></th>\n",
       "      <th></th>\n",
       "      <th></th>\n",
       "      <th></th>\n",
       "      <th></th>\n",
       "      <th></th>\n",
       "      <th></th>\n",
       "      <th></th>\n",
       "      <th></th>\n",
       "      <th></th>\n",
       "      <th></th>\n",
       "      <th></th>\n",
       "      <th></th>\n",
       "      <th></th>\n",
       "      <th></th>\n",
       "      <th></th>\n",
       "      <th></th>\n",
       "    </tr>\n",
       "  </thead>\n",
       "  <tbody>\n",
       "    <tr>\n",
       "      <th>nac_ntrc__wt_csn__1</th>\n",
       "      <td>Nac/NtrC</td>\n",
       "      <td>wt_csn</td>\n",
       "      <td>1</td>\n",
       "      <td>Escherichia coli K-12 MG1655</td>\n",
       "      <td>W2</td>\n",
       "      <td>glucose(2)</td>\n",
       "      <td>cytosine(2)</td>\n",
       "      <td>O2</td>\n",
       "      <td>NaN</td>\n",
       "      <td>NaN</td>\n",
       "      <td>37</td>\n",
       "      <td>7.0</td>\n",
       "      <td>Batch</td>\n",
       "      <td>NaN</td>\n",
       "      <td>MiSeq</td>\n",
       "      <td>NaN</td>\n",
       "      <td>2</td>\n",
       "      <td>From dissertation: https://escholarship.org/uc...</td>\n",
       "      <td>NaN</td>\n",
       "    </tr>\n",
       "    <tr>\n",
       "      <th>nac_ntrc__wt_csn__2</th>\n",
       "      <td>Nac/NtrC</td>\n",
       "      <td>wt_csn</td>\n",
       "      <td>2</td>\n",
       "      <td>Escherichia coli K-12 MG1655</td>\n",
       "      <td>W2</td>\n",
       "      <td>glucose(2)</td>\n",
       "      <td>cytosine(2)</td>\n",
       "      <td>O2</td>\n",
       "      <td>NaN</td>\n",
       "      <td>NaN</td>\n",
       "      <td>37</td>\n",
       "      <td>7.0</td>\n",
       "      <td>Batch</td>\n",
       "      <td>NaN</td>\n",
       "      <td>MiSeq</td>\n",
       "      <td>NaN</td>\n",
       "      <td>2</td>\n",
       "      <td>From dissertation: https://escholarship.org/uc...</td>\n",
       "      <td>NaN</td>\n",
       "    </tr>\n",
       "    <tr>\n",
       "      <th>nac_ntrc__wt_cytd__1</th>\n",
       "      <td>Nac/NtrC</td>\n",
       "      <td>wt_cytd</td>\n",
       "      <td>1</td>\n",
       "      <td>Escherichia coli K-12 MG1655</td>\n",
       "      <td>W2</td>\n",
       "      <td>glucose(2)</td>\n",
       "      <td>cytidine(2)</td>\n",
       "      <td>O2</td>\n",
       "      <td>NaN</td>\n",
       "      <td>NaN</td>\n",
       "      <td>37</td>\n",
       "      <td>7.0</td>\n",
       "      <td>Batch</td>\n",
       "      <td>NaN</td>\n",
       "      <td>MiSeq</td>\n",
       "      <td>NaN</td>\n",
       "      <td>2</td>\n",
       "      <td>From dissertation: https://escholarship.org/uc...</td>\n",
       "      <td>NaN</td>\n",
       "    </tr>\n",
       "    <tr>\n",
       "      <th>nac_ntrc__wt_cytd__2</th>\n",
       "      <td>Nac/NtrC</td>\n",
       "      <td>wt_cytd</td>\n",
       "      <td>2</td>\n",
       "      <td>Escherichia coli K-12 MG1655</td>\n",
       "      <td>W2</td>\n",
       "      <td>glucose(2)</td>\n",
       "      <td>cytidine(2)</td>\n",
       "      <td>O2</td>\n",
       "      <td>NaN</td>\n",
       "      <td>NaN</td>\n",
       "      <td>37</td>\n",
       "      <td>7.0</td>\n",
       "      <td>Batch</td>\n",
       "      <td>NaN</td>\n",
       "      <td>MiSeq</td>\n",
       "      <td>NaN</td>\n",
       "      <td>2</td>\n",
       "      <td>From dissertation: https://escholarship.org/uc...</td>\n",
       "      <td>NaN</td>\n",
       "    </tr>\n",
       "    <tr>\n",
       "      <th>nac_ntrc__wt_gln__1</th>\n",
       "      <td>Nac/NtrC</td>\n",
       "      <td>wt_gln</td>\n",
       "      <td>1</td>\n",
       "      <td>Escherichia coli K-12 MG1655</td>\n",
       "      <td>W2</td>\n",
       "      <td>glucose(2)</td>\n",
       "      <td>glutamine(2)</td>\n",
       "      <td>O2</td>\n",
       "      <td>NaN</td>\n",
       "      <td>NaN</td>\n",
       "      <td>37</td>\n",
       "      <td>7.0</td>\n",
       "      <td>Batch</td>\n",
       "      <td>NaN</td>\n",
       "      <td>MiSeq</td>\n",
       "      <td>NaN</td>\n",
       "      <td>2</td>\n",
       "      <td>From dissertation: https://escholarship.org/uc...</td>\n",
       "      <td>NaN</td>\n",
       "    </tr>\n",
       "    <tr>\n",
       "      <th>nac_ntrc__wt_gln__2</th>\n",
       "      <td>Nac/NtrC</td>\n",
       "      <td>wt_gln</td>\n",
       "      <td>2</td>\n",
       "      <td>Escherichia coli K-12 MG1655</td>\n",
       "      <td>W2</td>\n",
       "      <td>glucose(2)</td>\n",
       "      <td>glutamine(2)</td>\n",
       "      <td>O2</td>\n",
       "      <td>NaN</td>\n",
       "      <td>NaN</td>\n",
       "      <td>37</td>\n",
       "      <td>7.0</td>\n",
       "      <td>Batch</td>\n",
       "      <td>NaN</td>\n",
       "      <td>MiSeq</td>\n",
       "      <td>NaN</td>\n",
       "      <td>2</td>\n",
       "      <td>From dissertation: https://escholarship.org/uc...</td>\n",
       "      <td>NaN</td>\n",
       "    </tr>\n",
       "    <tr>\n",
       "      <th>nac_ntrc__bw_delnac_csn__1</th>\n",
       "      <td>Nac/NtrC</td>\n",
       "      <td>bw_delnac_csn</td>\n",
       "      <td>1</td>\n",
       "      <td>Escherichia coli K-12 BW25113 del_nac</td>\n",
       "      <td>W2</td>\n",
       "      <td>glucose(2)</td>\n",
       "      <td>cytosine(2)</td>\n",
       "      <td>O2</td>\n",
       "      <td>NaN</td>\n",
       "      <td>NaN</td>\n",
       "      <td>37</td>\n",
       "      <td>7.0</td>\n",
       "      <td>Batch</td>\n",
       "      <td>NaN</td>\n",
       "      <td>MiSeq</td>\n",
       "      <td>NaN</td>\n",
       "      <td>2</td>\n",
       "      <td>From dissertation: https://escholarship.org/uc...</td>\n",
       "      <td>NaN</td>\n",
       "    </tr>\n",
       "    <tr>\n",
       "      <th>nac_ntrc__bw_delnac_csn__2</th>\n",
       "      <td>Nac/NtrC</td>\n",
       "      <td>bw_delnac_csn</td>\n",
       "      <td>2</td>\n",
       "      <td>Escherichia coli K-12 BW25113 del_nac</td>\n",
       "      <td>W2</td>\n",
       "      <td>glucose(2)</td>\n",
       "      <td>cytosine(2)</td>\n",
       "      <td>O2</td>\n",
       "      <td>NaN</td>\n",
       "      <td>NaN</td>\n",
       "      <td>37</td>\n",
       "      <td>7.0</td>\n",
       "      <td>Batch</td>\n",
       "      <td>NaN</td>\n",
       "      <td>MiSeq</td>\n",
       "      <td>NaN</td>\n",
       "      <td>2</td>\n",
       "      <td>From dissertation: https://escholarship.org/uc...</td>\n",
       "      <td>NaN</td>\n",
       "    </tr>\n",
       "    <tr>\n",
       "      <th>nac_ntrc__bw_delnac_cytd__1</th>\n",
       "      <td>Nac/NtrC</td>\n",
       "      <td>bw_delnac_cytd</td>\n",
       "      <td>1</td>\n",
       "      <td>Escherichia coli K-12 BW25113 del_nac</td>\n",
       "      <td>W2</td>\n",
       "      <td>glucose(2)</td>\n",
       "      <td>cytidine(2)</td>\n",
       "      <td>O2</td>\n",
       "      <td>NaN</td>\n",
       "      <td>NaN</td>\n",
       "      <td>37</td>\n",
       "      <td>7.0</td>\n",
       "      <td>Batch</td>\n",
       "      <td>NaN</td>\n",
       "      <td>MiSeq</td>\n",
       "      <td>NaN</td>\n",
       "      <td>2</td>\n",
       "      <td>From dissertation: https://escholarship.org/uc...</td>\n",
       "      <td>NaN</td>\n",
       "    </tr>\n",
       "    <tr>\n",
       "      <th>nac_ntrc__bw_delnac_cytd__2</th>\n",
       "      <td>Nac/NtrC</td>\n",
       "      <td>bw_delnac_cytd</td>\n",
       "      <td>2</td>\n",
       "      <td>Escherichia coli K-12 BW25113 del_nac</td>\n",
       "      <td>W2</td>\n",
       "      <td>glucose(2)</td>\n",
       "      <td>cytidine(2)</td>\n",
       "      <td>O2</td>\n",
       "      <td>NaN</td>\n",
       "      <td>NaN</td>\n",
       "      <td>37</td>\n",
       "      <td>7.0</td>\n",
       "      <td>Batch</td>\n",
       "      <td>NaN</td>\n",
       "      <td>MiSeq</td>\n",
       "      <td>NaN</td>\n",
       "      <td>2</td>\n",
       "      <td>From dissertation: https://escholarship.org/uc...</td>\n",
       "      <td>NaN</td>\n",
       "    </tr>\n",
       "    <tr>\n",
       "      <th>nac_ntrc__bw_delnac_gln__1</th>\n",
       "      <td>Nac/NtrC</td>\n",
       "      <td>bw_delnac_gln</td>\n",
       "      <td>1</td>\n",
       "      <td>Escherichia coli K-12 BW25113 del_nac</td>\n",
       "      <td>W2</td>\n",
       "      <td>glucose(2)</td>\n",
       "      <td>glutamine(2)</td>\n",
       "      <td>O2</td>\n",
       "      <td>NaN</td>\n",
       "      <td>NaN</td>\n",
       "      <td>37</td>\n",
       "      <td>7.0</td>\n",
       "      <td>Batch</td>\n",
       "      <td>NaN</td>\n",
       "      <td>MiSeq</td>\n",
       "      <td>NaN</td>\n",
       "      <td>2</td>\n",
       "      <td>From dissertation: https://escholarship.org/uc...</td>\n",
       "      <td>NaN</td>\n",
       "    </tr>\n",
       "    <tr>\n",
       "      <th>nac_ntrc__bw_delnac_gln__2</th>\n",
       "      <td>Nac/NtrC</td>\n",
       "      <td>bw_delnac_gln</td>\n",
       "      <td>2</td>\n",
       "      <td>Escherichia coli K-12 BW25113 del_nac</td>\n",
       "      <td>W2</td>\n",
       "      <td>glucose(2)</td>\n",
       "      <td>glutamine(2)</td>\n",
       "      <td>O2</td>\n",
       "      <td>NaN</td>\n",
       "      <td>NaN</td>\n",
       "      <td>37</td>\n",
       "      <td>7.0</td>\n",
       "      <td>Batch</td>\n",
       "      <td>NaN</td>\n",
       "      <td>MiSeq</td>\n",
       "      <td>NaN</td>\n",
       "      <td>2</td>\n",
       "      <td>From dissertation: https://escholarship.org/uc...</td>\n",
       "      <td>NaN</td>\n",
       "    </tr>\n",
       "    <tr>\n",
       "      <th>nac_ntrc__bw_delnac_nh4__1</th>\n",
       "      <td>Nac/NtrC</td>\n",
       "      <td>bw_delnac_nh4</td>\n",
       "      <td>1</td>\n",
       "      <td>Escherichia coli K-12 BW25113 del_nac</td>\n",
       "      <td>M9</td>\n",
       "      <td>glucose(2)</td>\n",
       "      <td>NH4Cl(1)</td>\n",
       "      <td>O2</td>\n",
       "      <td>NaN</td>\n",
       "      <td>NaN</td>\n",
       "      <td>37</td>\n",
       "      <td>7.0</td>\n",
       "      <td>Batch</td>\n",
       "      <td>NaN</td>\n",
       "      <td>MiSeq</td>\n",
       "      <td>NaN</td>\n",
       "      <td>2</td>\n",
       "      <td>From dissertation: https://escholarship.org/uc...</td>\n",
       "      <td>NaN</td>\n",
       "    </tr>\n",
       "    <tr>\n",
       "      <th>nac_ntrc__bw_delnac_nh4__2</th>\n",
       "      <td>Nac/NtrC</td>\n",
       "      <td>bw_delnac_nh4</td>\n",
       "      <td>2</td>\n",
       "      <td>Escherichia coli K-12 BW25113 del_nac</td>\n",
       "      <td>M9</td>\n",
       "      <td>glucose(2)</td>\n",
       "      <td>NH4Cl(1)</td>\n",
       "      <td>O2</td>\n",
       "      <td>NaN</td>\n",
       "      <td>NaN</td>\n",
       "      <td>37</td>\n",
       "      <td>7.0</td>\n",
       "      <td>Batch</td>\n",
       "      <td>NaN</td>\n",
       "      <td>MiSeq</td>\n",
       "      <td>NaN</td>\n",
       "      <td>2</td>\n",
       "      <td>From dissertation: https://escholarship.org/uc...</td>\n",
       "      <td>NaN</td>\n",
       "    </tr>\n",
       "  </tbody>\n",
       "</table>\n",
       "</div>"
      ],
      "text/plain": [
       "                                Study    Condition ID  Replicate #  \\\n",
       "Sample ID                                                            \n",
       "nac_ntrc__wt_csn__1          Nac/NtrC          wt_csn            1   \n",
       "nac_ntrc__wt_csn__2          Nac/NtrC          wt_csn            2   \n",
       "nac_ntrc__wt_cytd__1         Nac/NtrC         wt_cytd            1   \n",
       "nac_ntrc__wt_cytd__2         Nac/NtrC         wt_cytd            2   \n",
       "nac_ntrc__wt_gln__1          Nac/NtrC          wt_gln            1   \n",
       "nac_ntrc__wt_gln__2          Nac/NtrC          wt_gln            2   \n",
       "nac_ntrc__bw_delnac_csn__1   Nac/NtrC   bw_delnac_csn            1   \n",
       "nac_ntrc__bw_delnac_csn__2   Nac/NtrC   bw_delnac_csn            2   \n",
       "nac_ntrc__bw_delnac_cytd__1  Nac/NtrC  bw_delnac_cytd            1   \n",
       "nac_ntrc__bw_delnac_cytd__2  Nac/NtrC  bw_delnac_cytd            2   \n",
       "nac_ntrc__bw_delnac_gln__1   Nac/NtrC   bw_delnac_gln            1   \n",
       "nac_ntrc__bw_delnac_gln__2   Nac/NtrC   bw_delnac_gln            2   \n",
       "nac_ntrc__bw_delnac_nh4__1   Nac/NtrC   bw_delnac_nh4            1   \n",
       "nac_ntrc__bw_delnac_nh4__2   Nac/NtrC   bw_delnac_nh4            2   \n",
       "\n",
       "                                                Strain Description Base Media  \\\n",
       "Sample ID                                                                       \n",
       "nac_ntrc__wt_csn__1                   Escherichia coli K-12 MG1655         W2   \n",
       "nac_ntrc__wt_csn__2                   Escherichia coli K-12 MG1655         W2   \n",
       "nac_ntrc__wt_cytd__1                  Escherichia coli K-12 MG1655         W2   \n",
       "nac_ntrc__wt_cytd__2                  Escherichia coli K-12 MG1655         W2   \n",
       "nac_ntrc__wt_gln__1                   Escherichia coli K-12 MG1655         W2   \n",
       "nac_ntrc__wt_gln__2                   Escherichia coli K-12 MG1655         W2   \n",
       "nac_ntrc__bw_delnac_csn__1   Escherichia coli K-12 BW25113 del_nac         W2   \n",
       "nac_ntrc__bw_delnac_csn__2   Escherichia coli K-12 BW25113 del_nac         W2   \n",
       "nac_ntrc__bw_delnac_cytd__1  Escherichia coli K-12 BW25113 del_nac         W2   \n",
       "nac_ntrc__bw_delnac_cytd__2  Escherichia coli K-12 BW25113 del_nac         W2   \n",
       "nac_ntrc__bw_delnac_gln__1   Escherichia coli K-12 BW25113 del_nac         W2   \n",
       "nac_ntrc__bw_delnac_gln__2   Escherichia coli K-12 BW25113 del_nac         W2   \n",
       "nac_ntrc__bw_delnac_nh4__1   Escherichia coli K-12 BW25113 del_nac         M9   \n",
       "nac_ntrc__bw_delnac_nh4__2   Escherichia coli K-12 BW25113 del_nac         M9   \n",
       "\n",
       "                            Carbon Source (g/L) Nitrogen Source (g/L)  \\\n",
       "Sample ID                                                               \n",
       "nac_ntrc__wt_csn__1                  glucose(2)           cytosine(2)   \n",
       "nac_ntrc__wt_csn__2                  glucose(2)           cytosine(2)   \n",
       "nac_ntrc__wt_cytd__1                 glucose(2)           cytidine(2)   \n",
       "nac_ntrc__wt_cytd__2                 glucose(2)           cytidine(2)   \n",
       "nac_ntrc__wt_gln__1                  glucose(2)          glutamine(2)   \n",
       "nac_ntrc__wt_gln__2                  glucose(2)          glutamine(2)   \n",
       "nac_ntrc__bw_delnac_csn__1           glucose(2)           cytosine(2)   \n",
       "nac_ntrc__bw_delnac_csn__2           glucose(2)           cytosine(2)   \n",
       "nac_ntrc__bw_delnac_cytd__1          glucose(2)           cytidine(2)   \n",
       "nac_ntrc__bw_delnac_cytd__2          glucose(2)           cytidine(2)   \n",
       "nac_ntrc__bw_delnac_gln__1           glucose(2)          glutamine(2)   \n",
       "nac_ntrc__bw_delnac_gln__2           glucose(2)          glutamine(2)   \n",
       "nac_ntrc__bw_delnac_nh4__1           glucose(2)              NH4Cl(1)   \n",
       "nac_ntrc__bw_delnac_nh4__2           glucose(2)              NH4Cl(1)   \n",
       "\n",
       "                            Electron Acceptor Trace Element Mixture  \\\n",
       "Sample ID                                                             \n",
       "nac_ntrc__wt_csn__1                        O2                   NaN   \n",
       "nac_ntrc__wt_csn__2                        O2                   NaN   \n",
       "nac_ntrc__wt_cytd__1                       O2                   NaN   \n",
       "nac_ntrc__wt_cytd__2                       O2                   NaN   \n",
       "nac_ntrc__wt_gln__1                        O2                   NaN   \n",
       "nac_ntrc__wt_gln__2                        O2                   NaN   \n",
       "nac_ntrc__bw_delnac_csn__1                 O2                   NaN   \n",
       "nac_ntrc__bw_delnac_csn__2                 O2                   NaN   \n",
       "nac_ntrc__bw_delnac_cytd__1                O2                   NaN   \n",
       "nac_ntrc__bw_delnac_cytd__2                O2                   NaN   \n",
       "nac_ntrc__bw_delnac_gln__1                 O2                   NaN   \n",
       "nac_ntrc__bw_delnac_gln__2                 O2                   NaN   \n",
       "nac_ntrc__bw_delnac_nh4__1                 O2                   NaN   \n",
       "nac_ntrc__bw_delnac_nh4__2                 O2                   NaN   \n",
       "\n",
       "                            Supplement  Temperature (C)   pH Culture Type  \\\n",
       "Sample ID                                                                   \n",
       "nac_ntrc__wt_csn__1                NaN               37  7.0        Batch   \n",
       "nac_ntrc__wt_csn__2                NaN               37  7.0        Batch   \n",
       "nac_ntrc__wt_cytd__1               NaN               37  7.0        Batch   \n",
       "nac_ntrc__wt_cytd__2               NaN               37  7.0        Batch   \n",
       "nac_ntrc__wt_gln__1                NaN               37  7.0        Batch   \n",
       "nac_ntrc__wt_gln__2                NaN               37  7.0        Batch   \n",
       "nac_ntrc__bw_delnac_csn__1         NaN               37  7.0        Batch   \n",
       "nac_ntrc__bw_delnac_csn__2         NaN               37  7.0        Batch   \n",
       "nac_ntrc__bw_delnac_cytd__1        NaN               37  7.0        Batch   \n",
       "nac_ntrc__bw_delnac_cytd__2        NaN               37  7.0        Batch   \n",
       "nac_ntrc__bw_delnac_gln__1         NaN               37  7.0        Batch   \n",
       "nac_ntrc__bw_delnac_gln__2         NaN               37  7.0        Batch   \n",
       "nac_ntrc__bw_delnac_nh4__1         NaN               37  7.0        Batch   \n",
       "nac_ntrc__bw_delnac_nh4__2         NaN               37  7.0        Batch   \n",
       "\n",
       "                             Growth Rate (1/hr) Sequencing Machine  \\\n",
       "Sample ID                                                            \n",
       "nac_ntrc__wt_csn__1                         NaN              MiSeq   \n",
       "nac_ntrc__wt_csn__2                         NaN              MiSeq   \n",
       "nac_ntrc__wt_cytd__1                        NaN              MiSeq   \n",
       "nac_ntrc__wt_cytd__2                        NaN              MiSeq   \n",
       "nac_ntrc__wt_gln__1                         NaN              MiSeq   \n",
       "nac_ntrc__wt_gln__2                         NaN              MiSeq   \n",
       "nac_ntrc__bw_delnac_csn__1                  NaN              MiSeq   \n",
       "nac_ntrc__bw_delnac_csn__2                  NaN              MiSeq   \n",
       "nac_ntrc__bw_delnac_cytd__1                 NaN              MiSeq   \n",
       "nac_ntrc__bw_delnac_cytd__2                 NaN              MiSeq   \n",
       "nac_ntrc__bw_delnac_gln__1                  NaN              MiSeq   \n",
       "nac_ntrc__bw_delnac_gln__2                  NaN              MiSeq   \n",
       "nac_ntrc__bw_delnac_nh4__1                  NaN              MiSeq   \n",
       "nac_ntrc__bw_delnac_nh4__2                  NaN              MiSeq   \n",
       "\n",
       "                            Additional Details  Biological Replicates  \\\n",
       "Sample ID                                                               \n",
       "nac_ntrc__wt_csn__1                        NaN                      2   \n",
       "nac_ntrc__wt_csn__2                        NaN                      2   \n",
       "nac_ntrc__wt_cytd__1                       NaN                      2   \n",
       "nac_ntrc__wt_cytd__2                       NaN                      2   \n",
       "nac_ntrc__wt_gln__1                        NaN                      2   \n",
       "nac_ntrc__wt_gln__2                        NaN                      2   \n",
       "nac_ntrc__bw_delnac_csn__1                 NaN                      2   \n",
       "nac_ntrc__bw_delnac_csn__2                 NaN                      2   \n",
       "nac_ntrc__bw_delnac_cytd__1                NaN                      2   \n",
       "nac_ntrc__bw_delnac_cytd__2                NaN                      2   \n",
       "nac_ntrc__bw_delnac_gln__1                 NaN                      2   \n",
       "nac_ntrc__bw_delnac_gln__2                 NaN                      2   \n",
       "nac_ntrc__bw_delnac_nh4__1                 NaN                      2   \n",
       "nac_ntrc__bw_delnac_nh4__2                 NaN                      2   \n",
       "\n",
       "                                                                           DOI  \\\n",
       "Sample ID                                                                        \n",
       "nac_ntrc__wt_csn__1          From dissertation: https://escholarship.org/uc...   \n",
       "nac_ntrc__wt_csn__2          From dissertation: https://escholarship.org/uc...   \n",
       "nac_ntrc__wt_cytd__1         From dissertation: https://escholarship.org/uc...   \n",
       "nac_ntrc__wt_cytd__2         From dissertation: https://escholarship.org/uc...   \n",
       "nac_ntrc__wt_gln__1          From dissertation: https://escholarship.org/uc...   \n",
       "nac_ntrc__wt_gln__2          From dissertation: https://escholarship.org/uc...   \n",
       "nac_ntrc__bw_delnac_csn__1   From dissertation: https://escholarship.org/uc...   \n",
       "nac_ntrc__bw_delnac_csn__2   From dissertation: https://escholarship.org/uc...   \n",
       "nac_ntrc__bw_delnac_cytd__1  From dissertation: https://escholarship.org/uc...   \n",
       "nac_ntrc__bw_delnac_cytd__2  From dissertation: https://escholarship.org/uc...   \n",
       "nac_ntrc__bw_delnac_gln__1   From dissertation: https://escholarship.org/uc...   \n",
       "nac_ntrc__bw_delnac_gln__2   From dissertation: https://escholarship.org/uc...   \n",
       "nac_ntrc__bw_delnac_nh4__1   From dissertation: https://escholarship.org/uc...   \n",
       "nac_ntrc__bw_delnac_nh4__2   From dissertation: https://escholarship.org/uc...   \n",
       "\n",
       "                             GEO  \n",
       "Sample ID                         \n",
       "nac_ntrc__wt_csn__1          NaN  \n",
       "nac_ntrc__wt_csn__2          NaN  \n",
       "nac_ntrc__wt_cytd__1         NaN  \n",
       "nac_ntrc__wt_cytd__2         NaN  \n",
       "nac_ntrc__wt_gln__1          NaN  \n",
       "nac_ntrc__wt_gln__2          NaN  \n",
       "nac_ntrc__bw_delnac_csn__1   NaN  \n",
       "nac_ntrc__bw_delnac_csn__2   NaN  \n",
       "nac_ntrc__bw_delnac_cytd__1  NaN  \n",
       "nac_ntrc__bw_delnac_cytd__2  NaN  \n",
       "nac_ntrc__bw_delnac_gln__1   NaN  \n",
       "nac_ntrc__bw_delnac_gln__2   NaN  \n",
       "nac_ntrc__bw_delnac_nh4__1   NaN  \n",
       "nac_ntrc__bw_delnac_nh4__2   NaN  "
      ]
     },
     "execution_count": 3,
     "metadata": {},
     "output_type": "execute_result"
    }
   ],
   "source": [
    "nac_sample_table = sample_table.loc[sample_table['Study'] == 'Nac/NtrC']\n",
    "\n",
    "nac_sample_table"
   ]
  },
  {
   "cell_type": "markdown",
   "metadata": {},
   "source": [
    "Here, two main things vary: the nitrogen source, and the strain description. The two strains are 'MG1655' and 'BW25113 del_nac'. The two base strains are closely related, but the BW25113 samples in this project have the transcription factor, Nac, deleted. Nac is involved in the response to nitrogen starvation.\n",
    "\n",
    "This poses the question: **Which genes are significantly affected by the genetic differences between these two strains, regardless of the nitrogen source used?** The answer to this suggests which genes Nac controls.\n",
    "\n",
    "### Generate p-values for each gene\n",
    "\n",
    "For each gene, compare the expression in the Nac/NtrC BW25113 del_nac samples with the Nac/NtrC MG1655 samples. Before doing so, think carefully about your approach:\n",
    "\n",
    "- Given the sample size here, can you use a non-parametric test?\n",
    "- If you choose to use a test that assumes a distribution, you must also generate a probability (p-value) for your assumptions. ([Hint](https://docs.scipy.org/doc/scipy/reference/generated/scipy.stats.shapiro.html))\n",
    "\n",
    "For all p-values, also generate a corresponding boolean (true/false) value. For assumptions, this value should be True if the assumption passes. For the comparison p-value, this value should be True if the gene is significantly differently expressed. Use $\\alpha$ = 0.05.\n",
    "\n",
    "#### Discuss your choice of tests\n",
    "\n",
    "<span style=\"color:red\">5 points</span>"
   ]
  },
  {
   "cell_type": "markdown",
   "metadata": {},
   "source": [
    "- The first is to test if the gene's expression follows a normal distribution. Therefore, we use a shapiro-wilk test on every gene and if the p-value of the test is less than 0.05, than we have to reject the null-hypothesis: the gene's expression follows a normal distribution. If the gene's expression follows a normal distribution in both the control and the nac knock-out samples, then we can conduct a t test to see if the gene is differentially expressed in the experimental condition.\n",
    "- The second test is a two sample t-test to determine if the gene is differentially expressed in the two samples. The null hypothesis is that the two sample's means are equal."
   ]
  },
  {
   "cell_type": "markdown",
   "metadata": {},
   "source": [
    "#### Generate your p-values\n",
    "\n",
    "Use a table or visualization of your significance results so we can get a sense of how many genes are significant and whether the assumptions pass. Comment on your results.\n",
    "\n",
    "<span style=\"color:red\">10 points</span>"
   ]
  },
  {
   "cell_type": "code",
   "execution_count": 150,
   "metadata": {},
   "outputs": [
    {
     "name": "stdout",
     "output_type": "stream",
     "text": [
      "The Number of Genes with a p > 0.05 in either the control or experimental groups using the Shapiro-Wilk test is:  2997\n",
      "This is the number of genes that are normally distributed between both experimental groups\n",
      "The Number of genes that were significant (p < 0.05) in the t test were:  1290\n"
     ]
    },
    {
     "data": {
      "image/png": "[encoded data removed]",
      "text/plain": [
       "<Figure size 1440x432 with 1 Axes>"
      ]
     },
     "metadata": {
      "needs_background": "light"
     },
     "output_type": "display_data"
    },
    {
     "data": {
      "image/png": "[encoded data removed]",
      "text/plain": [
       "<Figure size 1440x432 with 1 Axes>"
      ]
     },
     "metadata": {
      "needs_background": "light"
     },
     "output_type": "display_data"
    }
   ],
   "source": [
    "#data\n",
    "from scipy.stats import ttest_ind\n",
    "from scipy import stats\n",
    "\n",
    "#create dataframes of the relevant experiments\n",
    "control = data[['nac_ntrc__wt_csn__1','nac_ntrc__wt_csn__2','nac_ntrc__wt_cytd__1','nac_ntrc__wt_cytd__2','nac_ntrc__wt_gln__1','nac_ntrc__wt_gln__2']].copy()\n",
    "experiment = data[['nac_ntrc__bw_delnac_csn__1','nac_ntrc__bw_delnac_csn__2','nac_ntrc__bw_delnac_cytd__1','nac_ntrc__bw_delnac_cytd__2','nac_ntrc__bw_delnac_gln__1','nac_ntrc__bw_delnac_gln__2','nac_ntrc__bw_delnac_nh4__1','nac_ntrc__bw_delnac_nh4__2']].copy()\n",
    "\n",
    "#Shapiro-Wilk test results\n",
    "controlshapiro = []\n",
    "experimentshapiro = []\n",
    "\n",
    "NormalDistributedGenes = []\n",
    "tTestResults = []\n",
    "rejected = []\n",
    "\n",
    "for i in range(0,len(control)):\n",
    "    #conduct shapiro-wilk test on each gene in the control and experimental groups\n",
    "    controlshapiro.append(stats.shapiro(control.iloc[i])[1])\n",
    "    experimentshapiro.append(stats.shapiro(experiment.iloc[i])[1])\n",
    "    \n",
    "    if (controlshapiro[len(controlshapiro)-1] < 0.05 or experimentshapiro[len(experimentshapiro)-1] <= 0.05):\n",
    "        NormalDistributedGenes.append(False)  #appends false if one of the genes is not normally distributed\n",
    "        next\n",
    "    else:\n",
    "        NormalDistributedGenes.append(True)  #appends true if both genes follow a normal distribution\n",
    "        \n",
    "    tTestResults.append(ttest_ind(control.iloc[i],experiment.iloc[i])[1])\n",
    "    if ttest_ind(control.iloc[i],experiment.iloc[i])[1] < 0.05:\n",
    "        rejected.append(True)  #appends true if the null hypothesis is rejected (p < 0.05)\n",
    "    else:\n",
    "        rejected.append(False) #appends false if the null hypothesis not rejected\n",
    "\n",
    "plt.figure(figsize=(20,6))\n",
    "plt.xlabel(\"P-value\")\n",
    "plt.ylabel(\"Number of Genes\")\n",
    "plt.xticks(bins)\n",
    "plt.title(\"Histogram of P-value from Shapiro-Wilk Test\")\n",
    "\n",
    "counts, bins = np.histogram(controlshapiro, bins = 20)\n",
    "plt.hist(bins[:-1], bins-0.01, weights=counts,rwidth = 0.4)\n",
    "\n",
    "counts, bins = np.histogram(experimentshapiro, bins = 20)\n",
    "plt.hist(bins[:-1], bins+0.01, weights=counts,rwidth = 0.4)\n",
    "\n",
    "\n",
    "print(\"The Number of Genes with a p > 0.05 in either the control or experimental groups using the Shapiro-Wilk test is: \",sum(nonNormalGenes))\n",
    "print(\"This is the number of genes that are normally distributed between both experimental groups\")\n",
    "\n",
    "\n",
    "tTestResults = np.array(tTestResults)\n",
    "tTestResults = tTestResults[np.isfinite(tTestResults)]\n",
    "\n",
    "plt.figure(figsize=(20,6))\n",
    "counts, bins = np.histogram(tTestResults, bins = 20)\n",
    "plt.hist(bins[:-1], bins, weights=counts,rwidth = 0.4)\n",
    "plt.xlabel(\"P-value\")\n",
    "plt.ylabel(\"Number of Genes\")\n",
    "plt.xticks(bins)\n",
    "plt.title(\"Histogram of P-value from two sample t-test\")\n",
    "print(\"The Number of genes that were significant (p < 0.05) in the t test were: \",sum(rejected))"
   ]
  },
  {
   "cell_type": "markdown",
   "metadata": {},
   "source": [
    "#### As you can see in the second histogram, a large percentage of the genes have a p-value below 0.05 which would make them significant without multiple test correction."
   ]
  },
  {
   "cell_type": "markdown",
   "metadata": {},
   "source": [
    "### Perform Multiple Test Correction\n",
    "\n",
    "Many of the \"significant\" genes found in the previous question will have resulted from random chance as opposed to real underlying mechanisms. Use two different multi-test correction algorithms to correct this problem, visualize their effect on the p-values, and quantify the number of significant genes after each correction ($\\alpha = 0.05$). Comment on the results.\n",
    "\n",
    "The two algorithms to use are:\n",
    "\n",
    "- Bonferroni (FWER)\n",
    "- Benjamini-Hochburg Step-Up (FDR)\n",
    "\n",
    "You can use all p-values from the comparisons above, even if the assumptions failed (though in the real world you may want to improve your study design or statistical method). The \"statsmodels\" python package may be useful for this problem.\n",
    "\n",
    "<span style=\"color:red\">15 points</span>"
   ]
  },
  {
   "cell_type": "code",
   "execution_count": 155,
   "metadata": {},
   "outputs": [
    {
     "name": "stdout",
     "output_type": "stream",
     "text": [
      "The p-value after bonferonni correction is 1.28*10^-5. This means the threshold of rejection is much higher, meaning fewer genes will be rejected.\n",
      "The number of genes after bonferroni correction is:  168\n",
      "The number of genes after FDR are:  833\n"
     ]
    },
    {
     "data": {
      "text/plain": [
       "Text(0, 0.5, 'Adjusted Alpha')"
      ]
     },
     "execution_count": 155,
     "metadata": {},
     "output_type": "execute_result"
    },
    {
     "data": {
      "image/png": "[encoded data removed]",
      "text/plain": [
       "<Figure size 432x288 with 1 Axes>"
      ]
     },
     "metadata": {
      "needs_background": "light"
     },
     "output_type": "display_data"
    }
   ],
   "source": [
    "bonferroni = 0.05/len(control)\n",
    "\n",
    "TtestP = []\n",
    "sigBonferroni = []\n",
    "sigFDR = 0\n",
    "\n",
    "\n",
    "\n",
    "print(\"The p-value after bonferonni correction is 1.28*10^-5. This means the threshold of rejection is much higher, meaning fewer genes will be rejected.\")\n",
    "\n",
    "for i in range(0,len(control)):\n",
    "    TtestP.append(ttest_ind(control.iloc[i],experiment.iloc[i])[1])\n",
    "    if TtestP[len(TtestP)-1] < bonferroni:\n",
    "        sigBonferroni.append(control.index[i])\n",
    "        \n",
    "TtestP = np.sort(TtestP)\n",
    "rank = 1\n",
    "FDRthreshold = []\n",
    "for m in TtestP:\n",
    "    FDRthreshold.append(bonferroni * rank)\n",
    "    if m < bonferroni * rank:\n",
    "        sigFDR +=1\n",
    "    rank += 1\n",
    "        \n",
    "print(\"The number of genes after bonferroni correction is: \", len(sigBonferroni))\n",
    "print(\"The number of genes after FDR are: \", sigFDR)\n",
    "plt.bar([\"Original alpha\",\"Average FDR alpha\",\"Bonferroni\"],[0.05,np.mean(FDRthreshold),bonferroni])\n",
    "plt.xlabel(\"Method\")\n",
    "plt.ylabel(\"Adjusted Alpha\")\n",
    "#print(sigBonferoni)"
   ]
  },
  {
   "cell_type": "markdown",
   "metadata": {},
   "source": [
    "### Hypergeometric Test: Are the significant genes regulated by Nac?\n",
    "\n",
    "Use the strictest multi-test correction algorithm from above to obtain a list of significant genes. Are they significantly enriched for genes known to be regulated by nac ($\\alpha = 0.05$)? Use a hypergeometric test to evaluate this. What does your result mean?\n",
    "\n",
    "Below, we have provided code to parse the gene_table for nac regulation. The reg_by_nac Series contains all genes, and has a value of True if the gene is known to be regulated by Nac. For this question, you are comparing the significant genes against this list.\n",
    "\n",
    "<span style=\"color:red\">10 points</span>"
   ]
  },
  {
   "cell_type": "code",
   "execution_count": 170,
   "metadata": {},
   "outputs": [
    {
     "name": "stdout",
     "output_type": "stream",
     "text": [
      "The number of genes which are regulated by nac and significantly expressed:  44\n"
     ]
    }
   ],
   "source": [
    "reg_by_nac = pd.Series(index = gene_table.index, dtype=bool)\n",
    "\n",
    "for g in reg_by_nac.index:\n",
    "    if 'nac' in str(gene_table.regulator[g]):\n",
    "        reg_by_nac[g] = True\n",
    "    else:\n",
    "        reg_by_nac[g] = False\n",
    "        \n",
    "reg_by_nac\n",
    "i = 0\n",
    "for gene in reg_by_nac.index:\n",
    "    #print(gene)\n",
    "    for sgene in sigBonferroni:\n",
    "        if gene == sgene and reg_by_nac[gene] == True:\n",
    "            i +=1\n",
    "            \n",
    "            \n",
    "print(\"The number of genes which are regulated by nac and significantly expressed: \", i)"
   ]
  },
  {
   "cell_type": "code",
   "execution_count": 172,
   "metadata": {
    "scrolled": true
   },
   "outputs": [
    {
     "name": "stdout",
     "output_type": "stream",
     "text": [
      "The total number of genes is N:  3887\n",
      "The number of genes regulated by nac is r:  517\n",
      "The number of differentially expressed genes (bonferroni) is n:  168\n",
      "The number of genes shared between those that are significant and controlled by nac is y:  44\n",
      "The probability that the significant genes are random is:  2.1970990534278986e-06\n"
     ]
    }
   ],
   "source": [
    "from scipy.stats import hypergeom\n",
    "from math import comb\n",
    "N = len(reg_by_nac) #the number of genes in the genome\n",
    "r = sum(reg_by_nac) #the number of genes with the function of interest\n",
    "n = len(sigBonferroni) #number differentially expressed\n",
    "y = i  #number of overlap genes\n",
    "\n",
    "print(\"The total number of genes is N: \", N)\n",
    "print(\"The number of genes regulated by nac is r: \",r)\n",
    "print(\"The number of differentially expressed genes (bonferroni) is n: \",n)\n",
    "print(\"The number of genes shared between those that are significant and controlled by nac is y: \",y)\n",
    "f = comb(r,y) * comb(N-r,n-y) / comb(N,n)\n",
    "print(\"The probability that the significant genes are random is: \" ,f)"
   ]
  },
  {
   "cell_type": "markdown",
   "metadata": {},
   "source": [
    "### Formula for hypergeometric distribution used: $$f = \\frac{\\binom{r}{y}\\binom{N-r}{n-y}}{\\binom{N}{n}}$$\n",
    "The hypergeometric test gives the probability of having y genes that are both significantly different in the population and part of the nac pathway by chance, given that there are N genes in the genome, r genes regulated by nac, and n genes which are significant in the experimental condition. Because this probability is less than 0.05, we can reject the null hypothesis and say that the significant genes are enriched for genes in the nac pathway."
   ]
  }
 ],
 "metadata": {
  "kernelspec": {
   "display_name": "Python 3 (ipykernel)",
   "language": "python",
   "name": "python3"
  },
  "language_info": {
   "codemirror_mode": {
    "name": "ipython",
    "version": 3
   },
   "file_extension": ".py",
   "mimetype": "text/x-python",
   "name": "python",
   "nbconvert_exporter": "python",
   "pygments_lexer": "ipython3",
   "version": "3.9.13"
  },
  "toc": {
   "base_numbering": 1,
   "nav_menu": {},
   "number_sections": true,
   "sideBar": true,
   "skip_h1_title": true,
   "title_cell": "Table of Contents",
   "title_sidebar": "Contents",
   "toc_cell": true,
   "toc_position": {},
   "toc_section_display": true,
   "toc_window_display": false
  },
  "varInspector": {
   "cols": {
    "lenName": 16,
    "lenType": 16,
    "lenVar": 40
   },
   "kernels_config": {
    "python": {
     "delete_cmd_postfix": "",
     "delete_cmd_prefix": "del ",
     "library": "var_list.py",
     "varRefreshCmd": "print(var_dic_list())"
    },
    "r": {
     "delete_cmd_postfix": ") ",
     "delete_cmd_prefix": "rm(",
     "library": "var_list.r",
     "varRefreshCmd": "cat(var_dic_list()) "
    }
   },
   "types_to_exclude": [
    "module",
    "function",
    "builtin_function_or_method",
    "instance",
    "_Feature"
   ],
   "window_display": false
  }
 },
 "nbformat": 4,
 "nbformat_minor": 4
}
