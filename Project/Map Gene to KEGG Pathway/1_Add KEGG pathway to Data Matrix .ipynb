{
 "cells": [
  {
   "cell_type": "code",
   "execution_count": 55,
   "id": "a58d01f5",
   "metadata": {},
   "outputs": [],
   "source": [
    "import matplotlib.pyplot as plt\n",
    "import numpy as np\n",
    "import pandas as pd\n",
    "import seaborn as sns\n",
    "\n",
    "from os import path\n",
    "from pathlib import Path  \n",
    "\n",
    "#pd.set_option('display.max_columns', None)\n",
    "#pd.set_option('display.max_rows', None)"
   ]
  },
  {
   "cell_type": "code",
   "execution_count": 56,
   "id": "586180b7",
   "metadata": {},
   "outputs": [],
   "source": [
    "# import files\n",
    "data_file = path.join('/Users/louxuwen/Desktop/Documents/GitHub/SP23-BENG213/Project/Map Gene to KEGG Pathway/down_data_matrix.csv') # Enter metadata filename here\n",
    "gene_file = path.join('/Users/louxuwen/Desktop/Documents/GitHub/SP23-BENG213/Project/Map Gene to KEGG Pathway/Homo_sapiens.tsv') # Enter metadata filename hereMYO5A\n",
    "pathway_file = path.join('/Users/louxuwen/Desktop/Documents/GitHub/SP23-BENG213/Project/Map Gene to KEGG Pathway/Pathway_Down.csv') # Enter metadata filename hereMYO5A\n",
    "# dataframe of metadata\n",
    "data = pd.read_csv(data_file,index_col=0)\n",
    "gene_info = pd.read_csv(gene_file, sep=\"\\t\")\n",
    "pathway = pd.read_csv(pathway_file,index_col=0).fillna(\"0\")"
   ]
  },
  {
   "cell_type": "code",
   "execution_count": 57,
   "id": "ebe75ab4",
   "metadata": {},
   "outputs": [],
   "source": [
    "pathways = pathway.index.tolist()\n",
    "pathway_name = []\n",
    "pathway_number = []\n",
    "for i in range(len(pathway_names)):\n",
    "    temp = pathway.iloc[i]\n",
    "    for j in range(4):\n",
    "        if temp[j] != \"0\":\n",
    "            pathway_name.append(pathways[i])\n",
    "            pathway_number.append(temp[j])"
   ]
  },
  {
   "cell_type": "code",
   "execution_count": null,
   "id": "d050c1f6",
   "metadata": {},
   "outputs": [],
   "source": []
  }
 ],
 "metadata": {
  "kernelspec": {
   "display_name": "Python 3 (ipykernel)",
   "language": "python",
   "name": "python3"
  },
  "language_info": {
   "codemirror_mode": {
    "name": "ipython",
    "version": 3
   },
   "file_extension": ".py",
   "mimetype": "text/x-python",
   "name": "python",
   "nbconvert_exporter": "python",
   "pygments_lexer": "ipython3",
   "version": "3.9.13"
  }
 },
 "nbformat": 4,
 "nbformat_minor": 5
}
