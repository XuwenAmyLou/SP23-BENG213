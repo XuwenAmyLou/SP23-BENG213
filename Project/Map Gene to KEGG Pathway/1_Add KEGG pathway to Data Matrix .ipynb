{
 "cells": [
  {
   "cell_type": "code",
   "execution_count": 7,
   "id": "a58d01f5",
   "metadata": {},
   "outputs": [],
   "source": [
    "import matplotlib.pyplot as plt\n",
    "import numpy as np\n",
    "import pandas as pd\n",
    "import seaborn as sns\n",
    "\n",
    "from os import path\n",
    "from pathlib import Path  \n",
    "\n",
    "#pd.set_option('display.max_columns', None)\n",
    "#pd.set_option('display.max_rows', None)"
   ]
  },
  {
   "cell_type": "code",
   "execution_count": 8,
   "id": "586180b7",
   "metadata": {},
   "outputs": [],
   "source": [
    "# import files\n",
    "data_file = path.join('/Users/louxuwen/Desktop/Documents/GitHub/SP23-BENG213/Project/Map Gene to KEGG Pathway/data_matrix.csv') # Data matrix\n",
    "gene_file = path.join('/Users/louxuwen/Desktop/Documents/GitHub/SP23-BENG213/Project/Map Gene to KEGG Pathway/Homo_sapiens.tsv') # Gene Symbol and ID\n",
    "pathway_file = path.join('/Users/louxuwen/Desktop/Documents/GitHub/SP23-BENG213/Project/Map Gene to KEGG Pathway/Pathway_Down.csv') # all the pathways used in the heatmap\n",
    "gene_to_pathway_file = path.join('/Users/louxuwen/Desktop/Documents/GitHub/SP23-BENG213/Project/Map Gene to KEGG Pathway/Gene_to_Pathway.csv') # every pathway and the relevant genes\n",
    "\n",
    "# dataframe of metadata\n",
    "data = pd.read_csv(data_file)\n",
    "gene_info = pd.read_csv(gene_file, sep=\"\\t\")\n",
    "pathway = pd.read_csv(pathway_file,index_col=0).fillna(\"0\")\n",
    "gene_to_pathway = pd.read_csv(gene_to_pathway_file)"
   ]
  },
  {
   "cell_type": "code",
   "execution_count": 9,
   "id": "ebe75ab4",
   "metadata": {},
   "outputs": [],
   "source": [
    "pathways = pathway.index.tolist()\n",
    "pathway_name = []\n",
    "pathway_number = []\n",
    "for i in range(len(pathways)):\n",
    "    temp = pathway.iloc[i]\n",
    "    temp2 = []\n",
    "    for j in range(4):\n",
    "        if temp[j] != \"0\":\n",
    "            pathway_name.append(pathways[i])\n",
    "            pathway_number.append(temp[j])\n",
    "pathway_number = set(pathway_number)            "
   ]
  },
  {
   "cell_type": "code",
   "execution_count": null,
   "id": "dddbd0f2",
   "metadata": {},
   "outputs": [
    {
     "name": "stdout",
     "output_type": "stream",
     "text": [
      "0\n",
      "100\n",
      "200\n",
      "300\n",
      "400\n",
      "500\n",
      "600\n",
      "700\n",
      "800\n",
      "900\n",
      "1000\n",
      "1100\n",
      "1200\n",
      "1300\n",
      "1400\n",
      "1500\n",
      "1600\n",
      "1700\n",
      "1800\n",
      "1900\n",
      "2000\n",
      "2100\n",
      "2200\n",
      "2300\n",
      "2400\n",
      "2500\n",
      "2600\n",
      "2700\n",
      "2800\n",
      "2900\n",
      "3000\n",
      "3100\n",
      "3200\n",
      "3300\n",
      "3400\n",
      "3500\n",
      "3600\n",
      "3700\n",
      "3800\n",
      "3900\n",
      "4000\n",
      "4100\n",
      "4200\n"
     ]
    }
   ],
   "source": [
    "# get gene IDs\n",
    "# note that 7 percent (~252/3418 genes does not have matching symbol=ID)\n",
    "Gene_IDs = []\n",
    "for i in range(len(data.index.tolist())):\n",
    "    Gene_name = data.iloc[i][0]\n",
    "    \n",
    "    # get gene symbol\n",
    "    if \",\" in str(Gene_name):\n",
    "        temp = str(Gene_name).split(\",\")\n",
    "        if temp[0] != \"\":\n",
    "            Gene_name = temp[0]\n",
    "        else:\n",
    "            Gene_name = temp[1].lstrip()\n",
    "    \n",
    "    # gene_symbol to ID\n",
    "    ID = gene_info.loc[gene_info['Symbol'] == Gene_name]['GeneID'].tolist()\n",
    "    if ID == []:\n",
    "        Gene_IDs.append(\"None\")\n",
    "    else:\n",
    "        Gene_IDs.append(ID[0])\n",
    "    \n",
    "    if (i%100) == 0:\n",
    "        print(i)"
   ]
  },
  {
   "cell_type": "code",
   "execution_count": null,
   "id": "f7f5022d",
   "metadata": {},
   "outputs": [],
   "source": [
    "# add the IDs column in and drop the genes that doesn't have an ID\n",
    "data[\"ID\"] = Gene_IDs\n",
    "data = data[data['ID'] != \"None\"]"
   ]
  },
  {
   "cell_type": "code",
   "execution_count": null,
   "id": "a2fc2685",
   "metadata": {},
   "outputs": [],
   "source": [
    "# get the pathway\n",
    "# only 1402/3166 genes belong to a functional pathway\n",
    "pathways_by_gene = []\n",
    "pathways_by_gene_column = []\n",
    "for i in range(len(data.index.tolist())):\n",
    "    temp_ID = data.iloc[i][28]\n",
    "    \n",
    "    # get corresponding pathways\n",
    "    temp_pathways = gene_to_pathway[gene_to_pathway['Gene']== data.iloc[i][28]][\"Pathway\"].tolist()\n",
    "    \n",
    "    if len(temp_pathways) == 0:\n",
    "        pathways_by_gene_column.append(\"none\")\n",
    "    else:\n",
    "        pathways_by_gene.append(temp_pathways)\n",
    "        pathways_by_gene_column.append(\" \".join(temp_pathways))"
   ]
  },
  {
   "cell_type": "code",
   "execution_count": null,
   "id": "98f4b5fd",
   "metadata": {},
   "outputs": [],
   "source": [
    "data[\"All Pathways\"] = pathways_by_gene_column\n",
    "data = data[data['All Pathways'] != \"none\"]"
   ]
  },
  {
   "cell_type": "markdown",
   "id": "0f97b023",
   "metadata": {},
   "source": [
    "## output the data file as long as the gene is involved with a pathways ##"
   ]
  },
  {
   "cell_type": "code",
   "execution_count": null,
   "id": "6b32f7ab",
   "metadata": {},
   "outputs": [],
   "source": [
    "filepath = Path('/Users/louxuwen/Desktop/Documents/GitHub/SP23-BENG213/Project/Map Gene to KEGG Pathway/Data_All_Pathways.csv')  \n",
    "filepath.parent.mkdir(parents=True, exist_ok=True)  \n",
    "data.to_csv(filepath)  "
   ]
  },
  {
   "cell_type": "markdown",
   "id": "4b0192cb",
   "metadata": {},
   "source": [
    "## continue to shrink data only if a gene is involved with a pathway actually used in the heatmap ##"
   ]
  },
  {
   "cell_type": "code",
   "execution_count": null,
   "id": "b68696ac",
   "metadata": {},
   "outputs": [],
   "source": [
    "# find the pathway that's involved with the heat map\n",
    "pathways_involved = []\n",
    "pathways_involved_column = []\n",
    "for i in range(len(data.index.tolist())):\n",
    "    a = pathways_by_gene[i]\n",
    "    temp = []\n",
    "\n",
    "    for j in a:\n",
    "        if j in pathway_number:\n",
    "            temp.append(j)\n",
    "    \n",
    "    if len(temp) == 0:\n",
    "        pathways_involved_column.append(\"none\")\n",
    "    else:\n",
    "        pathways_involved.append(temp)\n",
    "        pathways_involved_column.append(\" \".join(temp))"
   ]
  },
  {
   "cell_type": "code",
   "execution_count": null,
   "id": "334aea36",
   "metadata": {},
   "outputs": [],
   "source": [
    "data[\"Involved Pathways\"] = pathways_involved_column\n",
    "data = data[data['Involved Pathways'] != \"none\"]"
   ]
  },
  {
   "cell_type": "code",
   "execution_count": null,
   "id": "6a1ccf1f",
   "metadata": {},
   "outputs": [],
   "source": [
    "drugs = data.columns.values.tolist()[1:28]\n",
    "functions = pathway.index.tolist()"
   ]
  },
  {
   "cell_type": "code",
   "execution_count": null,
   "id": "bf0ca0b6",
   "metadata": {},
   "outputs": [],
   "source": [
    "# create the finalmatrix\n",
    "final_matrix = [[0.0] * len(drugs)]*len(functions)\n",
    "counter=0\n",
    "for i in range(len(data.index.tolist())):\n",
    "    temp_pathways = pathways_involved[i]\n",
    "    temp_values = data.iloc[i].tolist()[1:28]\n",
    "    temp_functions = []\n",
    "    for j in temp_pathways:\n",
    "        a = pathway[pathway[\"pathway_1\"] == j].index.tolist()\n",
    "        if len(a)>0:\n",
    "            temp_functions.append(a[0])\n",
    "        else:\n",
    "            a = pathway[pathway[\"pathway_2\"] == j].index.tolist()\n",
    "            if len(a)>0:\n",
    "                temp_functions.append(a[0])\n",
    "            else:\n",
    "                a = pathway[pathway[\"pathway_3\"] == j].index.tolist()\n",
    "                if len(a)>0:\n",
    "                    temp_functions.append(a[0])\n",
    "                else:\n",
    "                    a = pathway[pathway[\"pathway_4\"] == j].index.tolist()\n",
    "                    if len(a)>0:\n",
    "                        temp_functions.append(a[0])\n",
    "    for k in temp_functions:\n",
    "        counter = counter + 1\n",
    "        temp_index = functions.index(k)\n",
    "        final_matrix[temp_index] = [final_matrix[temp_index][n] + temp_values[n] for n in range(len(temp_values))] \n"
   ]
  },
  {
   "cell_type": "code",
   "execution_count": null,
   "id": "d39c28a2",
   "metadata": {},
   "outputs": [],
   "source": [
    "final_data_functions_by_drugs = pd.DataFrame(final_matrix,index = functions, columns=drugs)\n",
    "final_data_functions_by_drugs"
   ]
  },
  {
   "cell_type": "code",
   "execution_count": null,
   "id": "5d43dda7",
   "metadata": {},
   "outputs": [],
   "source": [
    "filepath = Path('/Users/louxuwen/Desktop/Documents/GitHub/SP23-BENG213/Project/Map Gene to KEGG Pathway/Final_data_functions_by_drugs.csv')  \n",
    "filepath.parent.mkdir(parents=True, exist_ok=True)  \n",
    "final_data_functions_by_drugs.to_csv(filepath)  "
   ]
  },
  {
   "cell_type": "markdown",
   "id": "e4a4e2cc",
   "metadata": {},
   "source": [
    "## establish matrix as pathway by drugs ##"
   ]
  },
  {
   "cell_type": "code",
   "execution_count": null,
   "id": "5d74611a",
   "metadata": {},
   "outputs": [],
   "source": []
  }
 ],
 "metadata": {
  "kernelspec": {
   "display_name": "Python 3 (ipykernel)",
   "language": "python",
   "name": "python3"
  },
  "language_info": {
   "codemirror_mode": {
    "name": "ipython",
    "version": 3
   },
   "file_extension": ".py",
   "mimetype": "text/x-python",
   "name": "python",
   "nbconvert_exporter": "python",
   "pygments_lexer": "ipython3",
   "version": "3.9.13"
  }
 },
 "nbformat": 4,
 "nbformat_minor": 5
}
