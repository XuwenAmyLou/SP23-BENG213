{
 "cells": [
  {
   "cell_type": "code",
   "execution_count": 1,
   "id": "a50aee95",
   "metadata": {},
   "outputs": [],
   "source": [
    "import matplotlib.pyplot as plt\n",
    "import numpy as np\n",
    "import pandas as pd\n",
    "import seaborn as sns\n",
    "\n",
    "from os import path\n",
    "from pathlib import Path  \n",
    "\n",
    "#pd.set_option('display.max_columns', None)\n",
    "#pd.set_option('display.max_rows', None)"
   ]
  },
  {
   "cell_type": "code",
   "execution_count": null,
   "id": "f60f1218",
   "metadata": {},
   "outputs": [],
   "source": [
    "# import files\n",
    "data_file = path.join('..','data','raw_data','/home/amy/Documents/GitHub/SP23-BENG213/Project/Data Organization Attempt/Gefitinib_ddPTM_aggregated.csv') # Enter metadata filename here\n",
    "gene_file = path.join('..','data','raw_data','/home/amy/Documents/GitHub/SP23-BENG213/Project/Data Organization Attempt/Imatinib_ddPTM_aggregated.csv') # Enter metadata filename hereMYO5A\n",
    "# dataframe of metadata\n",
    "data = pd.read_csv(data_file)\n",
    "gene_info = pd.read_csv(gene_file)"
   ]
  }
 ],
 "metadata": {
  "kernelspec": {
   "display_name": "Python 3 (ipykernel)",
   "language": "python",
   "name": "python3"
  },
  "language_info": {
   "codemirror_mode": {
    "name": "ipython",
    "version": 3
   },
   "file_extension": ".py",
   "mimetype": "text/x-python",
   "name": "python",
   "nbconvert_exporter": "python",
   "pygments_lexer": "ipython3",
   "version": "3.9.13"
  }
 },
 "nbformat": 4,
 "nbformat_minor": 5
}
