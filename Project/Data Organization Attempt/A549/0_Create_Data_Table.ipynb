{
 "cells": [
  {
   "cell_type": "markdown",
   "id": "89ed1d14",
   "metadata": {},
   "source": [
    "This is the initial attempt to create a data table for the project\n",
    "Specifically, the following four phosphoproteome dataset are chosen:\n",
    "1. AZD-8055\n",
    "2. Dactolisib\n",
    "3. Dasatinib\n",
    "4. MK-2206\n",
    "5. Nintedanib\n",
    "6. Mirdametinib (PD-325901)\n",
    "7. Pictilisib\n",
    "8. Refametinib\n",
    "9. Selumetinib\n",
    "10. Staurosporine\n",
    "11. Tideglusib\n",
    "\n",
    "Thess drugs are all kinase inhibitors, and are tested on the A549.\n",
    "\n",
    "The logic is that if they are tested on the same cell line, the genes information should match.\n",
    "Thus the dd PTM datasets are downloaded (aggregate by protein)"
   ]
  },
  {
   "cell_type": "markdown",
   "id": "879e3ea7",
   "metadata": {},
   "source": [
    "Important things to note:\n",
    "1. Even within the same file, there could be duplicates in the gene name. Because the upregulation and downregulation can exist at the same time\n",
    "2. Not all genes are present in the all four files"
   ]
  },
  {
   "cell_type": "code",
   "execution_count": 1,
   "id": "8fcf2774",
   "metadata": {},
   "outputs": [],
   "source": [
    "import matplotlib.pyplot as plt\n",
    "import numpy as np\n",
    "import pandas as pd\n",
    "import seaborn as sns\n",
    "\n",
    "from os import path\n",
    "from pathlib import Path  \n",
    "\n",
    "pd.set_option('display.max_columns', None)\n",
    "pd.set_option('display.max_rows', None)"
   ]
  },
  {
   "cell_type": "code",
   "execution_count": 2,
   "id": "02f13574",
   "metadata": {},
   "outputs": [],
   "source": [
    "drug_list = [\n",
    "    \"AZD-8055\",\n",
    "    \"Dactolisib\",\n",
    "    \"Dasatinib\",\n",
    "    \"MK-2206\",\n",
    "    \"Nintedanib\",\n",
    "    \"Mirdametinib\",\n",
    "    \"Pictilisib\",\n",
    "    \"Refametinib\",\n",
    "    \"Selumetinib\",\n",
    "    \"Staurosporine\",\n",
    "    \"Tideglusib\",\n",
    "]"
   ]
  },
  {
   "cell_type": "code",
   "execution_count": 3,
   "id": "2886f13a",
   "metadata": {},
   "outputs": [],
   "source": [
    "temp = []\n",
    "for i in range(len(drug_list)):\n",
    "    drug = drug_list[i]\n",
    "    drug_file_name = drug + \"_ddPTM_aggregated.csv\"\n",
    "    drug_file_path = path.join('..','data','raw_data','/home/amy/Documents/GitHub/SP23-BENG213/Project/Data Organization Attempt/A549/Raw Data/', drug_file_name)\n",
    "    data_raw = pd.read_csv(drug_file_path)\n",
    "    data_raw = data_raw[data_raw['Gene Name'].notna()]\n",
    "    data_raw_up = data_raw.loc[data_raw['Regulation'] == \"up\"]\n",
    "    temp = temp+data_raw_up[\"Gene Name\"].tolist()\n",
    "genes = set(temp)\n",
    "genes_list = list(genes)"
   ]
  },
  {
   "cell_type": "markdown",
   "id": "ab5e05f7",
   "metadata": {},
   "source": [
    "Making the list of average fold change"
   ]
  },
  {
   "cell_type": "code",
   "execution_count": 4,
   "id": "ff6197a1",
   "metadata": {},
   "outputs": [
    {
     "name": "stdout",
     "output_type": "stream",
     "text": [
      "87.39% of the up matrix data is filled with 1\n"
     ]
    }
   ],
   "source": [
    "data_up = dict.fromkeys(drug_list)\n",
    "count = 0\n",
    "for i in range(len(drug_list)):\n",
    "    drug = drug_list[i]\n",
    "    drug_file_name = drug + \"_ddPTM_aggregated.csv\"\n",
    "    drug_file_path = path.join('..','data','raw_data','/home/amy/Documents/GitHub/SP23-BENG213/Project/Data Organization Attempt/A549/Raw Data/', drug_file_name)\n",
    "    data_raw = pd.read_csv(drug_file_path)\n",
    "    data_raw = data_raw[data_raw['Gene Name'].notna()]\n",
    "    data_raw_up = data_raw.loc[data_raw['Regulation'] == \"up\"]\n",
    "    drug_up_ave_FC = []\n",
    "    for i in range(len(genes_list)):\n",
    "        temp = data_raw_up.loc[data_raw_up['Gene Name'] == genes_list[i]]\n",
    "        temp_list = temp[\"Average Fold Change\"].tolist()\n",
    "        if len(temp_list) == 0:\n",
    "            drug_up_ave_FC.append(float(1))\n",
    "        else:\n",
    "            drug_up_ave_FC.append(temp_list[0])\n",
    "    data_up[drug] = drug_up_ave_FC\n",
    "    count = count + drug_up_ave_FC.count(1.0)\n",
    "    \n",
    "count = count/(len(drug_list)*len(genes_list))\n",
    "print(str(round(count*100,2)) + \"% of the up matrix data is filled with 1\")"
   ]
  },
  {
   "cell_type": "code",
   "execution_count": 5,
   "id": "2a51acc5",
   "metadata": {},
   "outputs": [],
   "source": [
    "up_matrix = pd.DataFrame(data_up, index=genes_list)"
   ]
  },
  {
   "cell_type": "code",
   "execution_count": 6,
   "id": "c0184ebf",
   "metadata": {},
   "outputs": [],
   "source": [
    "filepath = Path('/home/amy/Documents/GitHub/SP23-BENG213/Project/Data Organization Attempt/A549/0_up_matrix.csv')  \n",
    "filepath.parent.mkdir(parents=True, exist_ok=True)  \n",
    "up_matrix.to_csv(filepath)  "
   ]
  },
  {
   "cell_type": "markdown",
   "id": "4181c22e",
   "metadata": {},
   "source": [
    "down matrix"
   ]
  },
  {
   "cell_type": "code",
   "execution_count": 7,
   "id": "5a1a6f3f",
   "metadata": {},
   "outputs": [],
   "source": [
    "temp = []\n",
    "for i in range(len(drug_list)):\n",
    "    drug = drug_list[i]\n",
    "    drug_file_name = drug + \"_ddPTM_aggregated.csv\"\n",
    "    drug_file_path = path.join('..','data','raw_data','/home/amy/Documents/GitHub/SP23-BENG213/Project/Data Organization Attempt/A549/Raw Data/', drug_file_name)\n",
    "    data_raw = pd.read_csv(drug_file_path)\n",
    "    data_raw = data_raw[data_raw['Gene Name'].notna()]\n",
    "    data_raw_down = data_raw.loc[data_raw['Regulation'] == \"down\"]\n",
    "    temp = temp+data_raw_down[\"Gene Name\"].tolist()\n",
    "genes = set(temp)\n",
    "genes_list = list(genes)"
   ]
  },
  {
   "cell_type": "code",
   "execution_count": 9,
   "id": "c0e3360b",
   "metadata": {},
   "outputs": [
    {
     "name": "stdout",
     "output_type": "stream",
     "text": [
      "83.98% of the down matrix data is filled with 1\n"
     ]
    }
   ],
   "source": [
    "data_down = dict.fromkeys(drug_list)\n",
    "count = 0\n",
    "for i in range(len(drug_list)):\n",
    "    drug = drug_list[i]\n",
    "    drug_file_name = drug + \"_ddPTM_aggregated.csv\"\n",
    "    drug_file_path = path.join('..','data','raw_data','/home/amy/Documents/GitHub/SP23-BENG213/Project/Data Organization Attempt/A549/Raw Data/', drug_file_name)\n",
    "    data_raw = pd.read_csv(drug_file_path)\n",
    "    data_raw = data_raw[data_raw['Gene Name'].notna()]\n",
    "    data_raw_down = data_raw.loc[data_raw['Regulation'] == \"down\"]\n",
    "    drug_down_ave_FC = []\n",
    "    for i in range(len(genes_list)):\n",
    "        temp = data_raw_down.loc[data_raw_down['Gene Name'] == genes_list[i]]\n",
    "        temp_list = temp[\"Average Fold Change\"].tolist()\n",
    "        if len(temp_list) == 0:\n",
    "            drug_down_ave_FC.append(float(1))\n",
    "        else:\n",
    "            drug_down_ave_FC.append(temp_list[0])\n",
    "    data_down[drug] = drug_down_ave_FC\n",
    "    count = count + drug_down_ave_FC.count(1.0)\n",
    "    \n",
    "count = count/(len(drug_list)*len(genes_list))\n",
    "print(str(round(count*100,2)) + \"% of the down matrix data is filled with 1\")"
   ]
  },
  {
   "cell_type": "code",
   "execution_count": 10,
   "id": "54da18a8",
   "metadata": {},
   "outputs": [],
   "source": [
    "down_matrix = pd.DataFrame(data_down, index=genes_list)\n",
    "filepath = Path('/home/amy/Documents/GitHub/SP23-BENG213/Project/Data Organization Attempt/A549/0_down_matrix.csv')  \n",
    "filepath.parent.mkdir(parents=True, exist_ok=True)  \n",
    "down_matrix.to_csv(filepath)  "
   ]
  },
  {
   "cell_type": "code",
   "execution_count": null,
   "id": "734d6b4f",
   "metadata": {},
   "outputs": [],
   "source": []
  },
  {
   "cell_type": "code",
   "execution_count": null,
   "id": "146cc283",
   "metadata": {},
   "outputs": [],
   "source": []
  }
 ],
 "metadata": {
  "kernelspec": {
   "display_name": "Python 3 (ipykernel)",
   "language": "python",
   "name": "python3"
  },
  "language_info": {
   "codemirror_mode": {
    "name": "ipython",
    "version": 3
   },
   "file_extension": ".py",
   "mimetype": "text/x-python",
   "name": "python",
   "nbconvert_exporter": "python",
   "pygments_lexer": "ipython3",
   "version": "3.9.13"
  }
 },
 "nbformat": 4,
 "nbformat_minor": 5
}
