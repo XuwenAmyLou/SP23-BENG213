{
 "cells": [
  {
   "cell_type": "markdown",
   "id": "89ed1d14",
   "metadata": {},
   "source": [
    "This is the initial attempt to create a data table for the project\n",
    "Specifically, the following four phosphoproteome dataset are chosen:\n",
    "1. afatinib\n",
    "2. dasatinib\n",
    "3. gefitinib\n",
    "4. imatinib\n",
    "Thess drugs are all kinase inhibitors, and are tested on the A431.\n",
    "\n",
    "The logic is that if they are tested on the same cell line, the genes information should match.\n",
    "Thus the dd PTM datasets are downloaded (aggregate by protein)"
   ]
  },
  {
   "cell_type": "markdown",
   "id": "879e3ea7",
   "metadata": {},
   "source": [
    "Important things to note:\n",
    "1. Even within the same file, there could be duplicates in the gene name. Because the upregulation and downregulation can exist at the same time\n",
    "2. Not all genes are present in the all four files"
   ]
  },
  {
   "cell_type": "code",
   "execution_count": 1,
   "id": "8fcf2774",
   "metadata": {},
   "outputs": [],
   "source": [
    "import matplotlib.pyplot as plt\n",
    "import numpy as np\n",
    "import pandas as pd\n",
    "import seaborn as sns\n",
    "\n",
    "from os import path\n",
    "from pathlib import Path  \n",
    "\n",
    "pd.set_option('display.max_columns', None)\n",
    "pd.set_option('display.max_rows', None)"
   ]
  },
  {
   "cell_type": "code",
   "execution_count": 2,
   "id": "bb77a46c",
   "metadata": {},
   "outputs": [],
   "source": [
    "# import files\n",
    "afatinib_file = path.join('..','data','raw_data','/home/amy/Documents/GitHub/SP23-BENG213/Project/Data Organization Attempt/Afatinib_ddPTM_aggregated.csv') # Enter metadata filename here\n",
    "dasatinib_file = path.join('..','data','raw_data','/home/amy/Documents/GitHub/SP23-BENG213/Project/Data Organization Attempt/Dasatinib_ddPTM_aggregated.csv') # Enter metadata filename here\n",
    "gefitinib_file = path.join('..','data','raw_data','/home/amy/Documents/GitHub/SP23-BENG213/Project/Data Organization Attempt/Gefitinib_ddPTM_aggregated.csv') # Enter metadata filename here\n",
    "imatinib_file = path.join('..','data','raw_data','/home/amy/Documents/GitHub/SP23-BENG213/Project/Data Organization Attempt/Imatinib_ddPTM_aggregated.csv') # Enter metadata filename hereMYO5A"
   ]
  },
  {
   "cell_type": "code",
   "execution_count": 3,
   "id": "38f1be7d",
   "metadata": {},
   "outputs": [],
   "source": [
    "# dataframe of metadata\n",
    "afatinib_raw = pd.read_csv(afatinib_file)\n",
    "dasatinib_raw = pd.read_csv(dasatinib_file)\n",
    "gefitinib_raw = pd.read_csv(gefitinib_file)\n",
    "imatinib_raw = pd.read_csv(imatinib_file)"
   ]
  },
  {
   "cell_type": "code",
   "execution_count": 4,
   "id": "5479c7dd",
   "metadata": {},
   "outputs": [],
   "source": [
    "# drop the rows where the gene name doesnt exist\n",
    "# these are the PTMs that cannot be mapped/categorized to a speicific gene\n",
    "afatinib_raw = afatinib_raw[afatinib_raw['Gene Name'].notna()]\n",
    "dasatinib_raw = dasatinib_raw[dasatinib_raw['Gene Name'].notna()]\n",
    "gefitinib_raw = gefitinib_raw[gefitinib_raw['Gene Name'].notna()]\n",
    "imatinib_raw = imatinib_raw[imatinib_raw['Gene Name'].notna()]"
   ]
  },
  {
   "cell_type": "markdown",
   "id": "f8492663",
   "metadata": {},
   "source": [
    "Regulations can be up and down, and it is possible that both regulations exist even for the same gene\n",
    "Thus, it's important that we split the dataset into up regulation and downregulation\n",
    "The processing pipeline should however stay the same"
   ]
  },
  {
   "cell_type": "code",
   "execution_count": 5,
   "id": "2367071f",
   "metadata": {},
   "outputs": [],
   "source": [
    "afatinib_raw_up = afatinib_raw.loc[afatinib_raw['Regulation'] == \"up\"]\n",
    "dasatinib_raw_up = dasatinib_raw.loc[dasatinib_raw['Regulation'] == \"up\"]\n",
    "gefitinib_raw_up = gefitinib_raw.loc[gefitinib_raw['Regulation'] == \"up\"]\n",
    "imatinib_raw_up = imatinib_raw.loc[imatinib_raw['Regulation'] == \"up\"]"
   ]
  },
  {
   "cell_type": "code",
   "execution_count": 6,
   "id": "6924456f",
   "metadata": {},
   "outputs": [],
   "source": [
    "temp = []\n",
    "temp = afatinib_raw_up[\"Gene Name\"].tolist()\n",
    "temp = temp + dasatinib_raw_up[\"Gene Name\"].tolist()\n",
    "temp = temp + gefitinib_raw_up[\"Gene Name\"].tolist()\n",
    "temp = temp + imatinib_raw_up[\"Gene Name\"].tolist()\n",
    "genes = set(temp)\n",
    "genes_list = list(genes)"
   ]
  },
  {
   "cell_type": "code",
   "execution_count": 7,
   "id": "eb45eaf7",
   "metadata": {},
   "outputs": [
    {
     "data": {
      "text/plain": [
       "647"
      ]
     },
     "execution_count": 7,
     "metadata": {},
     "output_type": "execute_result"
    }
   ],
   "source": [
    "len(genes_list)"
   ]
  },
  {
   "cell_type": "markdown",
   "id": "ab5e05f7",
   "metadata": {},
   "source": [
    "Making the list of average fold change"
   ]
  },
  {
   "cell_type": "code",
   "execution_count": 8,
   "id": "e82cee25",
   "metadata": {},
   "outputs": [],
   "source": [
    "afatinib_up_ave_FC = []\n",
    "for i in range(len(genes_list)):\n",
    "    temp = afatinib_raw_up.loc[afatinib_raw_up['Gene Name'] == genes_list[i]]\n",
    "    temp_list = temp[\"Average Fold Change\"].tolist()\n",
    "    if len(temp_list) == 0:\n",
    "        afatinib_up_ave_FC.append(float(1))\n",
    "    else:\n",
    "        afatinib_up_ave_FC.append(temp_list[0])"
   ]
  },
  {
   "cell_type": "code",
   "execution_count": 9,
   "id": "0543d61e",
   "metadata": {},
   "outputs": [],
   "source": [
    "dasatinib_up_ave_FC = []\n",
    "for i in range(len(genes_list)):\n",
    "    temp = dasatinib_raw_up.loc[dasatinib_raw_up['Gene Name'] == genes_list[i]]\n",
    "    temp_list = temp[\"Average Fold Change\"].tolist()\n",
    "    if len(temp_list) == 0:\n",
    "        dasatinib_up_ave_FC.append(float(1))\n",
    "    else:\n",
    "        dasatinib_up_ave_FC.append(temp_list[0])"
   ]
  },
  {
   "cell_type": "code",
   "execution_count": 10,
   "id": "d3b2607e",
   "metadata": {},
   "outputs": [],
   "source": [
    "gefitinib_up_ave_FC = []\n",
    "for i in range(len(genes_list)):\n",
    "    temp = gefitinib_raw_up.loc[gefitinib_raw_up['Gene Name'] == genes_list[i]]\n",
    "    temp_list = temp[\"Average Fold Change\"].tolist()\n",
    "    if len(temp_list) == 0:\n",
    "        gefitinib_up_ave_FC.append(float(1))\n",
    "    else:\n",
    "        gefitinib_up_ave_FC.append(temp_list[0])"
   ]
  },
  {
   "cell_type": "code",
   "execution_count": 11,
   "id": "8a09d4ab",
   "metadata": {},
   "outputs": [],
   "source": [
    "imatinib_up_ave_FC = []\n",
    "for i in range(len(genes_list)):\n",
    "    temp = imatinib_raw_up.loc[imatinib_raw_up['Gene Name'] == genes_list[i]]\n",
    "    temp_list = temp[\"Average Fold Change\"].tolist()\n",
    "    if len(temp_list) == 0:\n",
    "        imatinib_up_ave_FC.append(float(1))\n",
    "    else:\n",
    "        imatinib_up_ave_FC.append(temp_list[0])"
   ]
  },
  {
   "cell_type": "markdown",
   "id": "9fdc9ca7",
   "metadata": {},
   "source": [
    "Make the data matrix"
   ]
  },
  {
   "cell_type": "code",
   "execution_count": 12,
   "id": "3e08ec08",
   "metadata": {},
   "outputs": [],
   "source": [
    "data_up = {'afatinib_up': afatinib_up_ave_FC,\n",
    "        'dasatinib_up': dasatinib_up_ave_FC,\n",
    "        'gefitinib_up': gefitinib_up_ave_FC,\n",
    "        'imatinib_up': imatinib_up_ave_FC,\n",
    "       }\n",
    "up_matrix = pd.DataFrame(data_up, index=genes_list)"
   ]
  },
  {
   "cell_type": "code",
   "execution_count": 13,
   "id": "fde3e047",
   "metadata": {},
   "outputs": [
    {
     "name": "stdout",
     "output_type": "stream",
     "text": [
      "64.49% of the data is filled with 1\n"
     ]
    }
   ],
   "source": [
    "count = afatinib_up_ave_FC.count(1.0)\n",
    "count = count + dasatinib_up_ave_FC.count(1.0)\n",
    "count = count + gefitinib_up_ave_FC.count(1.0)\n",
    "count = count + imatinib_up_ave_FC.count(1.0)\n",
    "count = count/(4*len(genes_list))\n",
    "print(str(round(count*100,2)) + \"% of the data is filled with 1\")"
   ]
  },
  {
   "cell_type": "code",
   "execution_count": 14,
   "id": "c0184ebf",
   "metadata": {},
   "outputs": [],
   "source": [
    "filepath = Path('/home/amy/Documents/GitHub/SP23-BENG213/Project/Data Organization Attempt/0_up_matrix.csv')  \n",
    "filepath.parent.mkdir(parents=True, exist_ok=True)  \n",
    "up_matrix.to_csv(filepath)  "
   ]
  },
  {
   "cell_type": "markdown",
   "id": "fb1420bf",
   "metadata": {},
   "source": [
    "Now making the down matrix"
   ]
  },
  {
   "cell_type": "code",
   "execution_count": 15,
   "id": "f0e7310f",
   "metadata": {},
   "outputs": [],
   "source": [
    "afatinib_raw_down = afatinib_raw.loc[afatinib_raw['Regulation'] == \"down\"]\n",
    "dasatinib_raw_down = dasatinib_raw.loc[dasatinib_raw['Regulation'] == \"down\"]\n",
    "gefitinib_raw_down = gefitinib_raw.loc[gefitinib_raw['Regulation'] == \"down\"]\n",
    "imatinib_raw_down = imatinib_raw.loc[imatinib_raw['Regulation'] == \"down\"]"
   ]
  },
  {
   "cell_type": "code",
   "execution_count": 16,
   "id": "12239d68",
   "metadata": {},
   "outputs": [],
   "source": [
    "temp = []\n",
    "temp = afatinib_raw_down[\"Gene Name\"].tolist()\n",
    "temp = temp + dasatinib_raw_down[\"Gene Name\"].tolist()\n",
    "temp = temp + gefitinib_raw_down[\"Gene Name\"].tolist()\n",
    "temp = temp + imatinib_raw_down[\"Gene Name\"].tolist()\n",
    "genes = set(temp)\n",
    "genes_list = list(genes)"
   ]
  },
  {
   "cell_type": "code",
   "execution_count": 17,
   "id": "effaad75",
   "metadata": {},
   "outputs": [
    {
     "data": {
      "text/plain": [
       "1235"
      ]
     },
     "execution_count": 17,
     "metadata": {},
     "output_type": "execute_result"
    }
   ],
   "source": [
    "len(genes_list)"
   ]
  },
  {
   "cell_type": "markdown",
   "id": "33b033e8",
   "metadata": {},
   "source": [
    "Making the list of average fold change"
   ]
  },
  {
   "cell_type": "code",
   "execution_count": 18,
   "id": "1bb73d7d",
   "metadata": {},
   "outputs": [],
   "source": [
    "afatinib_down_ave_FC = []\n",
    "for i in range(len(genes_list)):\n",
    "    temp = afatinib_raw_down.loc[afatinib_raw_down['Gene Name'] == genes_list[i]]\n",
    "    temp_list = temp[\"Average Fold Change\"].tolist()\n",
    "    if len(temp_list) == 0:\n",
    "        afatinib_down_ave_FC.append(float(1))\n",
    "    else:\n",
    "        afatinib_down_ave_FC.append(temp_list[0])"
   ]
  },
  {
   "cell_type": "code",
   "execution_count": 19,
   "id": "75ea1a47",
   "metadata": {},
   "outputs": [],
   "source": [
    "dasatinib_down_ave_FC = []\n",
    "for i in range(len(genes_list)):\n",
    "    temp = dasatinib_raw_down.loc[dasatinib_raw_down['Gene Name'] == genes_list[i]]\n",
    "    temp_list = temp[\"Average Fold Change\"].tolist()\n",
    "    if len(temp_list) == 0:\n",
    "        dasatinib_down_ave_FC.append(float(1))\n",
    "    else:\n",
    "        dasatinib_down_ave_FC.append(temp_list[0])"
   ]
  },
  {
   "cell_type": "code",
   "execution_count": 20,
   "id": "65a7e2c5",
   "metadata": {},
   "outputs": [],
   "source": [
    "gefitinib_down_ave_FC = []\n",
    "for i in range(len(genes_list)):\n",
    "    temp = gefitinib_raw_down.loc[gefitinib_raw_down['Gene Name'] == genes_list[i]]\n",
    "    temp_list = temp[\"Average Fold Change\"].tolist()\n",
    "    if len(temp_list) == 0:\n",
    "        gefitinib_down_ave_FC.append(float(1))\n",
    "    else:\n",
    "        gefitinib_down_ave_FC.append(temp_list[0])"
   ]
  },
  {
   "cell_type": "code",
   "execution_count": 21,
   "id": "293e4626",
   "metadata": {},
   "outputs": [],
   "source": [
    "imatinib_down_ave_FC = []\n",
    "for i in range(len(genes_list)):\n",
    "    temp = imatinib_raw_down.loc[imatinib_raw_down['Gene Name'] == genes_list[i]]\n",
    "    temp_list = temp[\"Average Fold Change\"].tolist()\n",
    "    if len(temp_list) == 0:\n",
    "        imatinib_down_ave_FC.append(float(1))\n",
    "    else:\n",
    "        imatinib_down_ave_FC.append(temp_list[0])"
   ]
  },
  {
   "cell_type": "markdown",
   "id": "91bac92a",
   "metadata": {},
   "source": [
    "Make the data matrix"
   ]
  },
  {
   "cell_type": "code",
   "execution_count": 23,
   "id": "d335772c",
   "metadata": {},
   "outputs": [],
   "source": [
    "data_down = {'afatinib_up': afatinib_down_ave_FC,\n",
    "        'dasatinib_up': dasatinib_down_ave_FC,\n",
    "        'gefitinib_up': gefitinib_down_ave_FC,\n",
    "        'imatinib_up': imatinib_down_ave_FC,\n",
    "       }\n",
    "down_matrix = pd.DataFrame(data_down, index=genes_list)"
   ]
  },
  {
   "cell_type": "code",
   "execution_count": 24,
   "id": "cf645db3",
   "metadata": {},
   "outputs": [
    {
     "name": "stdout",
     "output_type": "stream",
     "text": [
      "55.59% of the data is filled with 1\n"
     ]
    }
   ],
   "source": [
    "count = afatinib_down_ave_FC.count(1.0)\n",
    "count = count + dasatinib_down_ave_FC.count(1.0)\n",
    "count = count + gefitinib_down_ave_FC.count(1.0)\n",
    "count = count + imatinib_down_ave_FC.count(1.0)\n",
    "count = count/(4*len(genes_list))\n",
    "print(str(round(count*100,2)) + \"% of the data is filled with 1\")"
   ]
  },
  {
   "cell_type": "code",
   "execution_count": 25,
   "id": "c201d1bd",
   "metadata": {},
   "outputs": [],
   "source": [
    "filepath = Path('/home/amy/Documents/GitHub/SP23-BENG213/Project/Data Organization Attempt/0_down_matrix.csv')  \n",
    "filepath.parent.mkdir(parents=True, exist_ok=True)  \n",
    "down_matrix.to_csv(filepath)  "
   ]
  }
 ],
 "metadata": {
  "kernelspec": {
   "display_name": "Python 3 (ipykernel)",
   "language": "python",
   "name": "python3"
  },
  "language_info": {
   "codemirror_mode": {
    "name": "ipython",
    "version": 3
   },
   "file_extension": ".py",
   "mimetype": "text/x-python",
   "name": "python",
   "nbconvert_exporter": "python",
   "pygments_lexer": "ipython3",
   "version": "3.9.13"
  }
 },
 "nbformat": 4,
 "nbformat_minor": 5
}
