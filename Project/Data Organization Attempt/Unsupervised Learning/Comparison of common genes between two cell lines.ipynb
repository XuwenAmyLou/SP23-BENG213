{
 "cells": [
  {
   "cell_type": "code",
   "execution_count": 1,
   "id": "0ca29526",
   "metadata": {},
   "outputs": [],
   "source": [
    "import matplotlib.pyplot as plt\n",
    "import numpy as np\n",
    "import pandas as pd\n",
    "import seaborn as sns\n",
    "\n",
    "from os import path\n",
    "from pathlib import Path  \n",
    "\n",
    "from scipy import stats\n",
    "from sklearn import cluster, metrics # these will be useful\n",
    "from sklearn import decomposition, metrics # these will be useful\n",
    "\n",
    "from sklearn.decomposition import PCA\n",
    "import matplotlib.cm as cm\n",
    "\n",
    "#pd.set_option('display.max_columns', None)\n",
    "#pd.set_option('display.max_rows', None)"
   ]
  },
  {
   "cell_type": "code",
   "execution_count": 2,
   "id": "e422e3bb",
   "metadata": {},
   "outputs": [],
   "source": [
    "file_path = path.join('/home/amy/Documents/GitHub/SP23-BENG213/Project/Data Organization Attempt/A549/0_down_matrix.csv')\n",
    "data_A549 = pd.read_csv(file_path,index_col=0)\n",
    "\n",
    "file_path = path.join('/home/amy/Documents/GitHub/SP23-BENG213/Project/Data Organization Attempt/A431/0_down_matrix.csv')\n",
    "data_A431 = pd.read_csv(file_path,index_col=0)"
   ]
  },
  {
   "cell_type": "code",
   "execution_count": 5,
   "id": "6f600a15",
   "metadata": {},
   "outputs": [],
   "source": [
    "Genes_549 = data_A549.index.tolist()\n",
    "Genes_431 = data_A431.index.tolist()"
   ]
  },
  {
   "cell_type": "code",
   "execution_count": 6,
   "id": "1a7e817d",
   "metadata": {},
   "outputs": [],
   "source": [
    "common = set(Genes_549) & set(Genes_431)"
   ]
  },
  {
   "cell_type": "code",
   "execution_count": 9,
   "id": "b23d79f5",
   "metadata": {},
   "outputs": [
    {
     "name": "stdout",
     "output_type": "stream",
     "text": [
      "the down regulated PTMs in cell line 431 can be mapped to 1235 genes\n",
      "the down regulated PTMs in cell line 549 can be mapped to 1529 genes\n",
      "Among these genes, there are 947 of them in common\n"
     ]
    }
   ],
   "source": [
    "print(\"the down regulated PTMs in cell line 431 can be mapped to \"+str(len(Genes_431))+\" genes\")\n",
    "print(\"the down regulated PTMs in cell line 549 can be mapped to \"+str(len(Genes_549))+\" genes\")\n",
    "print(\"Among these genes, there are \"+str(len(common))+\" of them in common\" )\n",
    "\n"
   ]
  },
  {
   "cell_type": "markdown",
   "id": "238ea974",
   "metadata": {},
   "source": [
    "431 is from skin tissue\n",
    "while 549 is from lung tissue"
   ]
  },
  {
   "cell_type": "code",
   "execution_count": null,
   "id": "caa4fdbd",
   "metadata": {},
   "outputs": [],
   "source": []
  }
 ],
 "metadata": {
  "kernelspec": {
   "display_name": "Python 3 (ipykernel)",
   "language": "python",
   "name": "python3"
  },
  "language_info": {
   "codemirror_mode": {
    "name": "ipython",
    "version": 3
   },
   "file_extension": ".py",
   "mimetype": "text/x-python",
   "name": "python",
   "nbconvert_exporter": "python",
   "pygments_lexer": "ipython3",
   "version": "3.9.7"
  }
 },
 "nbformat": 4,
 "nbformat_minor": 5
}
