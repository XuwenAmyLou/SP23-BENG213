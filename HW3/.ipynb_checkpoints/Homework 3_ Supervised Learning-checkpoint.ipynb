{
 "cells": [
  {
   "cell_type": "markdown",
   "metadata": {},
   "source": [
    "1.1: what does he mean by discussing gene coefficient\n",
    "\n",
    "1.3: normalization, do I need to transpose the data matrix\n",
    "\n",
    "1.3: choose a metrics\n",
    "\n",
    "1.4: read up on the documentation\n",
    "\n",
    "1.5.1: discuss regulariztation\n",
    "\n"
   ]
  },
  {
   "cell_type": "markdown",
   "metadata": {},
   "source": [
    "# Homework 3: Supervised Learning\n",
    "\n",
    "Due Date: Monday, May 22, 2023 at Midnight PST (Submit this .ipynb file on Canvas)\n",
    "\n",
    "Your name: **Xuwen(Amy) Lou**\n",
    "\n",
    "<span style=\"color:red\">100 total points</span>"
   ]
  },
  {
   "cell_type": "markdown",
   "metadata": {
    "toc": true
   },
   "source": [
    "<h1>Table of Contents<span class=\"tocSkip\"></span></h1>\n",
    "<div class=\"toc\"><ul class=\"toc-item\"><li><span><a href=\"#Logistic-Regression\" data-toc-modified-id=\"Logistic-Regression-1\"><span class=\"toc-item-num\">1&nbsp;&nbsp;</span>Logistic Regression</a></span><ul class=\"toc-item\"><li><span><a href=\"#Describe-Logistic-Regression\" data-toc-modified-id=\"Describe-Logistic-Regression-1.1\"><span class=\"toc-item-num\">1.1&nbsp;&nbsp;</span>Describe Logistic Regression</a></span></li><li><span><a href=\"#Generate-a-Simple-Train/Test-Split\" data-toc-modified-id=\"Generate-a-Simple-Train/Test-Split-1.2\"><span class=\"toc-item-num\">1.2&nbsp;&nbsp;</span>Generate a Simple Train/Test Split</a></span></li><li><span><a href=\"#Run-Logistic-Regression-&amp;-Evaluate-Performance\" data-toc-modified-id=\"Run-Logistic-Regression-&amp;-Evaluate-Performance-1.3\"><span class=\"toc-item-num\">1.3&nbsp;&nbsp;</span>Run Logistic Regression &amp; Evaluate Performance</a></span></li><li><span><a href=\"#Evaluate-the-Most-Important-Genes\" data-toc-modified-id=\"Evaluate-the-Most-Important-Genes-1.4\"><span class=\"toc-item-num\">1.4&nbsp;&nbsp;</span>Evaluate the Most Important Genes</a></span></li><li><span><a href=\"#Regularization\" data-toc-modified-id=\"Regularization-1.5\"><span class=\"toc-item-num\">1.5&nbsp;&nbsp;</span>Regularization</a></span><ul class=\"toc-item\"><li><span><a href=\"#Discuss-regularization\" data-toc-modified-id=\"Discuss-regularization-1.5.1\"><span class=\"toc-item-num\">1.5.1&nbsp;&nbsp;</span>Discuss regularization</a></span></li><li><span><a href=\"#Vary-the-Regularization-and-Re-evaluate-Performance\" data-toc-modified-id=\"Vary-the-Regularization-and-Re-evaluate-Performance-1.5.2\"><span class=\"toc-item-num\">1.5.2&nbsp;&nbsp;</span>Vary the Regularization and Re-evaluate Performance</a></span></li></ul></li><li><span><a href=\"#PR-and-ROC-Curves\" data-toc-modified-id=\"PR-and-ROC-Curves-1.6\"><span class=\"toc-item-num\">1.6&nbsp;&nbsp;</span>PR and ROC Curves</a></span></li><li><span><a href=\"#Use-Bootstrapping-to-Obtain-Confidence-Intervals\" data-toc-modified-id=\"Use-Bootstrapping-to-Obtain-Confidence-Intervals-1.7\"><span class=\"toc-item-num\">1.7&nbsp;&nbsp;</span>Use Bootstrapping to Obtain Confidence Intervals</a></span><ul class=\"toc-item\"><li><span><a href=\"#Bootstrapping-Performance\" data-toc-modified-id=\"Bootstrapping-Performance-1.7.1\"><span class=\"toc-item-num\">1.7.1&nbsp;&nbsp;</span>Bootstrapping Performance</a></span></li><li><span><a href=\"#Bootstrapping-Gene-Coefficients\" data-toc-modified-id=\"Bootstrapping-Gene-Coefficients-1.7.2\"><span class=\"toc-item-num\">1.7.2&nbsp;&nbsp;</span>Bootstrapping Gene Coefficients</a></span></li></ul></li></ul></li><li><span><a href=\"#Decision-Trees\" data-toc-modified-id=\"Decision-Trees-2\"><span class=\"toc-item-num\">2&nbsp;&nbsp;</span>Decision Trees</a></span><ul class=\"toc-item\"><li><span><a href=\"#Summarize-Decision-Trees\" data-toc-modified-id=\"Summarize-Decision-Trees-2.1\"><span class=\"toc-item-num\">2.1&nbsp;&nbsp;</span>Summarize Decision Trees</a></span></li><li><span><a href=\"#Make-a-Train/Test-Split-For-Growth-Rate-Determination\" data-toc-modified-id=\"Make-a-Train/Test-Split-For-Growth-Rate-Determination-2.2\"><span class=\"toc-item-num\">2.2&nbsp;&nbsp;</span>Make a Train/Test Split For Growth Rate Determination</a></span></li><li><span><a href=\"#Train-a-Regression-Tree-&amp;-Evaluate-Performance\" data-toc-modified-id=\"Train-a-Regression-Tree-&amp;-Evaluate-Performance-2.3\"><span class=\"toc-item-num\">2.3&nbsp;&nbsp;</span>Train a Regression Tree &amp; Evaluate Performance</a></span></li><li><span><a href=\"#Show-the-Tree-Structure-&amp;-Comment-on-Top-Genes\" data-toc-modified-id=\"Show-the-Tree-Structure-&amp;-Comment-on-Top-Genes-2.4\"><span class=\"toc-item-num\">2.4&nbsp;&nbsp;</span>Show the Tree Structure &amp; Comment on Top Genes</a></span></li></ul></li></ul></div>"
   ]
  },
  {
   "cell_type": "code",
   "execution_count": 1,
   "metadata": {},
   "outputs": [],
   "source": [
    "import numpy as np\n",
    "import pandas as pd\n",
    "import matplotlib.pyplot as plt\n",
    "import seaborn as sns\n",
    "from scipy import stats\n",
    "from sklearn import model_selection, linear_model, metrics, tree, utils, preprocessing\n",
    "\n",
    "# read in the data\n",
    "file_name = 'Homework_Data.xlsx'\n",
    "\n",
    "data = pd.read_excel(file_name, \n",
    "                     sheet_name = 'Expression Data',\n",
    "                     index_col = 0)\n",
    "sample_table = pd.read_excel(file_name,\n",
    "                             sheet_name = 'Experimental Conditions',\n",
    "                             index_col = 0)\n",
    "gene_table = pd.read_excel(file_name,\n",
    "                           sheet_name = 'Gene Information',\n",
    "                           index_col = 0)\n",
    "\n",
    "# normalize the data\n",
    "data_norm = pd.DataFrame(stats.zscore(data, axis = 1), \n",
    "                         columns = data.columns, index = data.index)"
   ]
  },
  {
   "cell_type": "markdown",
   "metadata": {},
   "source": [
    "## Logistic Regression\n",
    "\n",
    "Two different strains were used to generate the homework dataset: E. coli MG1655 and BW25113. They are closely related, so the difference is subtle -- let's see if you can train a logistic regression model to predict the strain given an expression profile. \n",
    "\n",
    "### Describe Logistic Regression\n",
    "\n",
    "Summarize logistic regression. Be sure to discuss classification vs. regression, training and testing data, gene coefficients, and the logistic function. \n",
    "\n",
    "<span style=\"color:red\">5 points</span>"
   ]
  },
  {
   "cell_type": "markdown",
   "metadata": {},
   "source": [
    "Classification produces a discrete output (usually binary or a set of previously determined labels) while regression produces a continuous output. \n",
    "\n",
    "Logistic regression uses a logistic function to distinguish the data, and produces binary output. Even though it has the word regression in it, it is still a classification method.\n",
    "\n",
    "Essentially, it uses a logistic function (sigmoid function of a s shape) to separate the training data. Training data is a set of data used to train and fine-trune the logistic function to find the best way to separate data into the desired/correct category, and it can be achieved by maximizing likelood or minimizing cost function. Once the model is finalized, it is then used on testing data to evalute the performance of the model. Usually people obtain the training and testing data by splitting the original data.\n",
    "\n"
   ]
  },
  {
   "cell_type": "markdown",
   "metadata": {},
   "source": [
    "### Generate a Simple Train/Test Split\n",
    "\n",
    "The line of code provided below adds a column to the sample_table which is true if the sample is BW25113 and false if the sample is MG1655. This will be the label you are trying to predict. Note that we have a class imbalance problem here; there are 72 MG1655 samples and 30 BW25113 samples.\n",
    "\n",
    "Split the samples into a train group and a test group. Make sure that:\n",
    "\n",
    "- The train group is approximately 3 times larger than the test group (a test size of 25% of the data)\n",
    "- Both groups contain approximately equal proportions of both trace element mixture samples.\n",
    "- You always keep samples that belong to the exact same condition together. This is important, because replicates from the same condition being split into the different groups will allow the algorithm to see very similar data in both the train and test group. The purpose of a train/test split is to ensure you aren't overfitting your model, and splitting up replicates would compromise that.\n",
    "- If you want everything to be consistent across multiple runs, specify a random_state.\n",
    "\n",
    "Also, you will need the 'is_BW' labels for both groups. You could create two pd.Series (train_labels & test_labels) where the index is the list of samples that obeys the rules above, and the values are from the 'is_BW' column of the sample_table.\n",
    "\n",
    "**Hint:** You could use the following steps to do this problem:\n",
    "\n",
    "1. Get a list of samples from the boolean is_BW column for both True and False\n",
    "2. Get the unique conditions ('Condition ID') associated with those samples\n",
    "3. Randomly split both sets of conditions into a train (75%) and test (25%) group\n",
    "4. Combine your two test groups into a single test group with both strains, and do the same with your train groups\n",
    "5. Convert from conditions back into samples (pd.Series.isin() might help)\n",
    "6. Make the labels structures by indexing back into the sample_table\n",
    "\n",
    "<span style=\"color:red\">5 points</span>"
   ]
  },
  {
   "cell_type": "code",
   "execution_count": 2,
   "metadata": {},
   "outputs": [],
   "source": [
    "sample_table['is_BW'] = sample_table['Strain Description'].str.contains('BW25113')"
   ]
  },
  {
   "cell_type": "code",
   "execution_count": 3,
   "metadata": {},
   "outputs": [],
   "source": [
    "import random\n",
    "\n",
    "#Get a list of samples from the boolean is_BW column for both True and False\n",
    "#Get the unique conditions ('Condition ID') associated with those samples\n",
    "True_conditions = sample_table[sample_table['is_BW'] == True]['Condition ID'].tolist()\n",
    "True_conditions = np.array(list(set(True_conditions)))\n",
    "False_conditions = sample_table[sample_table['is_BW'] == False]['Condition ID'].tolist()\n",
    "False_conditions = np.array(list(set(False_conditions)))\n",
    "\n",
    "#Randomly split both sets of conditions into a train (75%) and test (25%) group\n",
    "True_conditions = utils.shuffle(True_conditions, random_state = 0)\n",
    "T_test = True_conditions[0:int(len(True_conditions)/4)]\n",
    "T_train = True_conditions[int(len(True_conditions)/4):(len(True_conditions))]\n",
    "False_conditions = utils.shuffle(False_conditions, random_state = 0)\n",
    "F_test = False_conditions[0:int(len(False_conditions)/4)]\n",
    "F_train = False_conditions[int(len(False_conditions)/4):(len(False_conditions))]\n",
    "\n",
    "#Combine your two test groups into a single test group with both strains, and do the same with your train groups\n",
    "Test = list(T_test)+list(F_test)\n",
    "Train = list(T_train)+list(F_train)\n",
    "\n",
    "#Convert from conditions back into samples (pd.Series.isin() might help)\n",
    "labels = []\n",
    "conditions = sample_table['Condition ID'].tolist()\n",
    "for i in conditions:\n",
    "    if i in Test:\n",
    "        labels.append(\"Test\")\n",
    "    if i in Train:\n",
    "        labels.append(\"Train\")\n",
    "\n",
    "#Make the labels structures by indexing back into the sample_table\n",
    "sample_table['Train Test Labels'] = labels\n",
    "Test_ID = sample_table[sample_table['Train Test Labels'] == \"Test\"].index.tolist()\n",
    "Train_ID = sample_table[sample_table['Train Test Labels'] == \"Train\"].index.tolist()"
   ]
  },
  {
   "cell_type": "markdown",
   "metadata": {},
   "source": [
    "Make sure both groups contain approximately equal proportions of both trace element mixture samples.\n",
    "\n",
    "criteria: the ratio of sauer trace element mixture to aebersold trace element mixture between training and sample data are kept <= 0.5"
   ]
  },
  {
   "cell_type": "code",
   "execution_count": 4,
   "metadata": {},
   "outputs": [
    {
     "data": {
      "text/plain": [
       "{'aebersold trace element mixture', nan, 'sauer trace element mixture'}"
      ]
     },
     "execution_count": 4,
     "metadata": {},
     "output_type": "execute_result"
    }
   ],
   "source": [
    "set(sample_table['Trace Element Mixture'].tolist())"
   ]
  },
  {
   "cell_type": "code",
   "execution_count": 5,
   "metadata": {},
   "outputs": [
    {
     "name": "stdout",
     "output_type": "stream",
     "text": [
      "In training data, the ratio of sauer trace element mixture to aebersold trace element mixture is 2.0\n",
      "In testing data, the ratio of sauer trace element mixture to aebersold trace element mixture is 1.5\n"
     ]
    }
   ],
   "source": [
    "train_a = sample_table[sample_table['Train Test Labels'] == \"Train\"]['Trace Element Mixture'].tolist().count('aebersold trace element mixture')\n",
    "train_s = sample_table[sample_table['Train Test Labels'] == \"Train\"]['Trace Element Mixture'].tolist().count('sauer trace element mixture')\n",
    "train_sa = train_s / train_a\n",
    "\n",
    "test_a = sample_table[sample_table['Train Test Labels'] == \"Test\"]['Trace Element Mixture'].tolist().count('aebersold trace element mixture')\n",
    "test_s = sample_table[sample_table['Train Test Labels'] == \"Test\"]['Trace Element Mixture'].tolist().count('sauer trace element mixture')\n",
    "test_sa = test_s/test_a\n",
    "\n",
    "while abs(train_sa-test_sa) > 0.5:\n",
    "    if train_sa > test_sa:\n",
    "        train_to_test = \"\"\n",
    "        while train_to_test == \"\":\n",
    "            for i in Train:\n",
    "                if sample_table[sample_table['Condition ID'] == i]['Trace Element Mixture'].tolist()[0] == 'sauer trace element mixture' and sample_table[sample_table['Condition ID'] == i]['is_BW'].tolist()[0] ==False:\n",
    "                    train_to_test = i\n",
    "                    break\n",
    "        test_to_train = \"\"\n",
    "        while test_to_train == \"\":\n",
    "            for i in Test:\n",
    "                if sample_table[sample_table['Condition ID'] == i]['Trace Element Mixture'].tolist()[0] == 'aebersold trace element mixture' and sample_table[sample_table['Condition ID'] == i]['is_BW'].tolist()[0] ==False:\n",
    "                    test_to_train = i\n",
    "                    break\n",
    "    else:\n",
    "        train_to_test = \"\"\n",
    "        while train_to_test == \"\":\n",
    "            for i in Train:\n",
    "                if sample_table[sample_table['Condition ID'] == i]['Trace Element Mixture'].tolist()[0] == 'aebersold trace element mixture' and sample_table[sample_table['Condition ID'] == i]['is_BW'].tolist()[0] ==False:\n",
    "                    train_to_test = i\n",
    "                    break\n",
    "        test_to_train = \"\"\n",
    "        while test_to_train == \"\":\n",
    "            for i in Test:\n",
    "                if sample_table[sample_table['Condition ID'] == i]['Trace Element Mixture'].tolist()[0] == 'sauer trace element mixture' and sample_table[sample_table['Condition ID'] == i]['is_BW'].tolist()[0] ==False:\n",
    "                    test_to_train = i\n",
    "                    break\n",
    "        \n",
    "    Test.remove(test_to_train)\n",
    "    Train.remove(train_to_test)\n",
    "    Train.append(test_to_train)\n",
    "    Test.append(train_to_test)\n",
    "\n",
    "    #Convert from conditions back into samples (pd.Series.isin() might help)\n",
    "    labels = []\n",
    "    conditions = sample_table['Condition ID'].tolist()\n",
    "    for i in conditions:\n",
    "        if i in Test:\n",
    "            labels.append(\"Test\")\n",
    "        if i in Train:\n",
    "            labels.append(\"Train\")\n",
    "\n",
    "    #Make the labels structures by indexing back into the sample_table\n",
    "    sample_table['Train Test Labels'] = labels\n",
    "    Test_ID = sample_table[sample_table['Train Test Labels'] == \"Test\"].index.tolist()\n",
    "    Train_ID = sample_table[sample_table['Train Test Labels'] == \"Train\"].index.tolist()\n",
    "\n",
    "    train_a = sample_table[sample_table['Train Test Labels'] == \"Train\"]['Trace Element Mixture'].tolist().count('aebersold trace element mixture')\n",
    "    train_s = sample_table[sample_table['Train Test Labels'] == \"Train\"]['Trace Element Mixture'].tolist().count('sauer trace element mixture')\n",
    "    train_sa = train_s / train_a\n",
    "\n",
    "    test_a = sample_table[sample_table['Train Test Labels'] == \"Test\"]['Trace Element Mixture'].tolist().count('aebersold trace element mixture')\n",
    "    test_s = sample_table[sample_table['Train Test Labels'] == \"Test\"]['Trace Element Mixture'].tolist().count('sauer trace element mixture')\n",
    "    test_sa = test_s/test_a        \n",
    "        \n",
    "        \n",
    "print(\"In training data, the ratio of sauer trace element mixture to aebersold trace element mixture is \" + str(train_sa))\n",
    "print(\"In testing data, the ratio of sauer trace element mixture to aebersold trace element mixture is \" + str(test_sa))\n"
   ]
  },
  {
   "cell_type": "markdown",
   "metadata": {},
   "source": [
    "### Run Logistic Regression & Evaluate Performance\n",
    "\n",
    "Run logistic regression with the train/test split you made above. [Use normalized data](https://scikit-learn.org/stable/modules/preprocessing.html). Be sure to specify no regularization penalty, as we will explore that in a later problem. \n",
    "\n",
    "Obtain predicted labels for your testing set, and then make a contingency table comparing those labels to the true labels. Quantify: accuracy, sensitivity, specificity, precision, F1 score, and Matthews correlation coefficient. Be sure each number is labeled in your output. Comment on the values: Did your test perform well? Which is a better overall metric for performance and why?\n",
    "\n",
    "<span style=\"color:red\">10 points</span>"
   ]
  },
  {
   "cell_type": "code",
   "execution_count": 6,
   "metadata": {},
   "outputs": [],
   "source": [
    "# normalize the dataset\n",
    "data_normalized = preprocessing.normalize(data)\n",
    "data_normalized = pd.DataFrame(data_normalized, index = data.index.tolist(), columns = data.columns.tolist())\n",
    "\n",
    "# run logistic regression, specify no regularization penalty \n",
    "logreg = linear_model.LogisticRegression(penalty = None)\n",
    "\n",
    "# Fit the model on the training data\n",
    "train_data = data_normalized[Train_ID].T.values.tolist()\n",
    "train_label = sample_table[sample_table['Train Test Labels'] == \"Train\"]['is_BW'].tolist()\n",
    "logreg.fit(train_data, train_label)\n",
    "\n",
    "# obtain predicted labels\n",
    "test_data = data_normalized[Test_ID].T.values.tolist()\n",
    "test_label = sample_table[sample_table['Train Test Labels'] == \"Test\"]['is_BW'].tolist()\n",
    "test_pred = list(logreg.predict(test_data))\n",
    "\n",
    "# contingency table, quantify accuracy,sensitivity, specificity, precision, F1 score, Matthews correlation coefficient\n",
    "TP = 0 # predicted positive and actually positive\n",
    "FN = 0 # predicted negative and actually positive\n",
    "FP = 0 # predicted positive and actually negative\n",
    "TN = 0 # predicted negative and actually negative\n",
    "for i in range(len(test_label)):\n",
    "    if test_label[i] == True and test_pred[i] == True:\n",
    "        TP = TP+1\n",
    "    if test_label[i] == False and test_pred[i] == True:\n",
    "        FN = FN+1\n",
    "    if test_label[i] == True and test_pred[i] == False:\n",
    "        FP = FP+1\n",
    "    if test_label[i] == False and test_pred[i] == False:\n",
    "        TN = TN+1\n",
    "contingency_table = pd.DataFrame([[TP, FP],[FN,TN]], index = ['predicted true','predicted false'], columns = ['actually true','actually false'])\n",
    "\n",
    "\n",
    "# comment on the values, did your test perform well, which is a better overall metric for performance and why"
   ]
  },
  {
   "cell_type": "code",
   "execution_count": 14,
   "metadata": {},
   "outputs": [
    {
     "name": "stdout",
     "output_type": "stream",
     "text": [
      "The accuracy is 0.88\n",
      "The Sensitivity is 0.7272727272727273\n",
      "The Specificity is 1.0\n",
      "The Precision is 1.0\n",
      "The F1 is 0.8421052631578947\n",
      "The Matthews correlation coefficient is 0.773905989951895\n"
     ]
    }
   ],
   "source": [
    "import math\n",
    "ALL = TP+TN+FP+FN\n",
    "Accuracy = (TP+TN)/ALL\n",
    "Sensitivity = TP/(TP+FN)\n",
    "Specificity = TN/(TN+FP)\n",
    "Precision = TP/(TP+FP)\n",
    "F1 = TP/(TP+(FP+FN)/2)\n",
    "MCC = (TP*TN-FP*FN)/(math.sqrt((TP+FP)*(TP+FN)*(TN+FP)*(TN+FN)))\n",
    "\n",
    "print(\"The accuracy is \"+str(Accuracy))\n",
    "print(\"The Sensitivity is \"+str(Sensitivity))\n",
    "print(\"The Specificity is \"+str(Specificity))\n",
    "print(\"The Precision is \"+str(Precision))\n",
    "print(\"The F1 is \"+str(F1))\n",
    "print(\"The Matthews correlation coefficient is \"+str(MCC))"
   ]
  },
  {
   "cell_type": "code",
   "execution_count": 15,
   "metadata": {},
   "outputs": [
    {
     "data": {
      "text/html": [
       "<div>\n",
       "<style scoped>\n",
       "    .dataframe tbody tr th:only-of-type {\n",
       "        vertical-align: middle;\n",
       "    }\n",
       "\n",
       "    .dataframe tbody tr th {\n",
       "        vertical-align: top;\n",
       "    }\n",
       "\n",
       "    .dataframe thead th {\n",
       "        text-align: right;\n",
       "    }\n",
       "</style>\n",
       "<table border=\"1\" class=\"dataframe\">\n",
       "  <thead>\n",
       "    <tr style=\"text-align: right;\">\n",
       "      <th></th>\n",
       "      <th>actually true</th>\n",
       "      <th>actually false</th>\n",
       "    </tr>\n",
       "  </thead>\n",
       "  <tbody>\n",
       "    <tr>\n",
       "      <th>predicted true</th>\n",
       "      <td>8</td>\n",
       "      <td>0</td>\n",
       "    </tr>\n",
       "    <tr>\n",
       "      <th>predicted false</th>\n",
       "      <td>3</td>\n",
       "      <td>14</td>\n",
       "    </tr>\n",
       "  </tbody>\n",
       "</table>\n",
       "</div>"
      ],
      "text/plain": [
       "                 actually true  actually false\n",
       "predicted true               8               0\n",
       "predicted false              3              14"
      ]
     },
     "execution_count": 15,
     "metadata": {},
     "output_type": "execute_result"
    }
   ],
   "source": [
    "contingency_table"
   ]
  },
  {
   "cell_type": "markdown",
   "metadata": {},
   "source": []
  },
  {
   "cell_type": "markdown",
   "metadata": {},
   "source": [
    "### Evaluate the Most Important Genes\n",
    "\n",
    "Look at the 5 genes that are most important to your model. Do you think these make sense as ways of discerning between the strains, or are they more likely the result of other underlying variables, like the specific samples that happened to be in the training set?\n",
    "\n",
    "The strain differences are shown in [this table](http://bioinfo.ccs.usherbrooke.ca/BW25113.html).\n",
    "\n",
    "<span style=\"color:red\">5 points</span>"
   ]
  },
  {
   "cell_type": "code",
   "execution_count": 30,
   "metadata": {},
   "outputs": [
    {
     "name": "stdout",
     "output_type": "stream",
     "text": [
      "     Feature  Coefficient\n",
      "1629   b1894   -17.515237\n",
      "1628   b1893   -16.454923\n",
      "52     b0062   -15.675398\n",
      "3340   b3903   -15.080586\n",
      "53     b0063   -14.831784\n"
     ]
    }
   ],
   "source": [
    "# look upcoefficient\n",
    "# Retrieve the coefficients and corresponding feature names\n",
    "coefficients = list(logreg.coef_[0])\n",
    "feature_names = data.index.tolist()\n",
    "\n",
    "# Create a DataFrame to display the coefficients with their feature names\n",
    "coefficients_df = pd.DataFrame({'Feature': feature_names, 'Coefficient': coefficients})\n",
    "\n",
    "# Sort the DataFrame by coefficient magnitudes (absolute values) in descending order\n",
    "coefficients_df = coefficients_df.reindex(coefficients_df['Coefficient'].abs().sort_values(ascending=False).index)\n",
    "\n",
    "# Print the top N features with the largest absolute coefficients\n",
    "top_n = 5\n",
    "print(coefficients_df.head(top_n))"
   ]
  },
  {
   "cell_type": "code",
   "execution_count": 33,
   "metadata": {},
   "outputs": [
    {
     "data": {
      "text/html": [
       "<div>\n",
       "<style scoped>\n",
       "    .dataframe tbody tr th:only-of-type {\n",
       "        vertical-align: middle;\n",
       "    }\n",
       "\n",
       "    .dataframe tbody tr th {\n",
       "        vertical-align: top;\n",
       "    }\n",
       "\n",
       "    .dataframe thead th {\n",
       "        text-align: right;\n",
       "    }\n",
       "</style>\n",
       "<table border=\"1\" class=\"dataframe\">\n",
       "  <thead>\n",
       "    <tr style=\"text-align: right;\">\n",
       "      <th></th>\n",
       "      <th>gene_name</th>\n",
       "      <th>gene_product</th>\n",
       "      <th>COG</th>\n",
       "      <th>regulator</th>\n",
       "      <th>operon</th>\n",
       "      <th>start</th>\n",
       "      <th>end</th>\n",
       "      <th>strand</th>\n",
       "    </tr>\n",
       "  </thead>\n",
       "  <tbody>\n",
       "    <tr>\n",
       "      <th>b0002</th>\n",
       "      <td>thrA</td>\n",
       "      <td>fused aspartate kinase/homoserine dehydrogenase 1</td>\n",
       "      <td>Amino acid transport and metabolism</td>\n",
       "      <td>rpoD,arcA,crp,fnr,lrp</td>\n",
       "      <td>thrLABC</td>\n",
       "      <td>337.0</td>\n",
       "      <td>2799.0</td>\n",
       "      <td>+</td>\n",
       "    </tr>\n",
       "    <tr>\n",
       "      <th>b0003</th>\n",
       "      <td>thrB</td>\n",
       "      <td>homoserine kinase</td>\n",
       "      <td>Nucleotide transport and metabolism</td>\n",
       "      <td>rpoD,arcA,crp,fnr,lrp</td>\n",
       "      <td>thrLABC</td>\n",
       "      <td>2801.0</td>\n",
       "      <td>3733.0</td>\n",
       "      <td>+</td>\n",
       "    </tr>\n",
       "    <tr>\n",
       "      <th>b0004</th>\n",
       "      <td>thrC</td>\n",
       "      <td>threonine synthase</td>\n",
       "      <td>Amino acid transport and metabolism</td>\n",
       "      <td>rpoD,arcA,crp,fnr,lrp</td>\n",
       "      <td>thrLABC</td>\n",
       "      <td>3734.0</td>\n",
       "      <td>5020.0</td>\n",
       "      <td>+</td>\n",
       "    </tr>\n",
       "    <tr>\n",
       "      <th>b0005</th>\n",
       "      <td>yaaX</td>\n",
       "      <td>DUF2502 domain-containing protein YaaX</td>\n",
       "      <td>Function unknown</td>\n",
       "      <td>NaN</td>\n",
       "      <td>yaaX</td>\n",
       "      <td>5234.0</td>\n",
       "      <td>5530.0</td>\n",
       "      <td>+</td>\n",
       "    </tr>\n",
       "    <tr>\n",
       "      <th>b0006</th>\n",
       "      <td>yaaA</td>\n",
       "      <td>peroxide stress resistance protein YaaA</td>\n",
       "      <td>Function unknown</td>\n",
       "      <td>NaN</td>\n",
       "      <td>yaaA</td>\n",
       "      <td>5683.0</td>\n",
       "      <td>6459.0</td>\n",
       "      <td>-</td>\n",
       "    </tr>\n",
       "    <tr>\n",
       "      <th>...</th>\n",
       "      <td>...</td>\n",
       "      <td>...</td>\n",
       "      <td>...</td>\n",
       "      <td>...</td>\n",
       "      <td>...</td>\n",
       "      <td>...</td>\n",
       "      <td>...</td>\n",
       "      <td>...</td>\n",
       "    </tr>\n",
       "    <tr>\n",
       "      <th>b4688</th>\n",
       "      <td>ykgS</td>\n",
       "      <td>CP4-6 prophage%3B protein YkgS</td>\n",
       "      <td>Function unknown</td>\n",
       "      <td>NaN</td>\n",
       "      <td>ykgS</td>\n",
       "      <td>290510.0</td>\n",
       "      <td>290638.0</td>\n",
       "      <td>+</td>\n",
       "    </tr>\n",
       "    <tr>\n",
       "      <th>b4693</th>\n",
       "      <td>aaaE</td>\n",
       "      <td>phage terminase</td>\n",
       "      <td>Transcription</td>\n",
       "      <td>NaN</td>\n",
       "      <td>ymfTLMNR-beeE-jayE-ymfQ-ycfK-tfaP</td>\n",
       "      <td>1204401.0</td>\n",
       "      <td>1205537.0</td>\n",
       "      <td>+</td>\n",
       "    </tr>\n",
       "    <tr>\n",
       "      <th>b4696_1</th>\n",
       "      <td>ydeK</td>\n",
       "      <td>Unknown</td>\n",
       "      <td>No COG Annotation</td>\n",
       "      <td>NaN</td>\n",
       "      <td>ydeK</td>\n",
       "      <td>1594126.0</td>\n",
       "      <td>1597987.0</td>\n",
       "      <td>-</td>\n",
       "    </tr>\n",
       "    <tr>\n",
       "      <th>b4696_2</th>\n",
       "      <td>yneO_2</td>\n",
       "      <td>Unknown</td>\n",
       "      <td>No COG Annotation</td>\n",
       "      <td>NaN</td>\n",
       "      <td>ydeK</td>\n",
       "      <td>1592664.0</td>\n",
       "      <td>1594125.0</td>\n",
       "      <td>-</td>\n",
       "    </tr>\n",
       "    <tr>\n",
       "      <th>b4705</th>\n",
       "      <td>mntS</td>\n",
       "      <td>small protein MntS</td>\n",
       "      <td>No COG annotation</td>\n",
       "      <td>rpoD,mntR,nac</td>\n",
       "      <td>rybA-mntS</td>\n",
       "      <td>852869.0</td>\n",
       "      <td>852997.0</td>\n",
       "      <td>-</td>\n",
       "    </tr>\n",
       "  </tbody>\n",
       "</table>\n",
       "<p>3887 rows × 8 columns</p>\n",
       "</div>"
      ],
      "text/plain": [
       "        gene_name                                       gene_product  \\\n",
       "b0002        thrA  fused aspartate kinase/homoserine dehydrogenase 1   \n",
       "b0003        thrB                                  homoserine kinase   \n",
       "b0004        thrC                                 threonine synthase   \n",
       "b0005        yaaX             DUF2502 domain-containing protein YaaX   \n",
       "b0006        yaaA            peroxide stress resistance protein YaaA   \n",
       "...           ...                                                ...   \n",
       "b4688        ykgS                     CP4-6 prophage%3B protein YkgS   \n",
       "b4693        aaaE                                    phage terminase   \n",
       "b4696_1      ydeK                                            Unknown   \n",
       "b4696_2    yneO_2                                            Unknown   \n",
       "b4705        mntS                                 small protein MntS   \n",
       "\n",
       "                                         COG              regulator  \\\n",
       "b0002    Amino acid transport and metabolism  rpoD,arcA,crp,fnr,lrp   \n",
       "b0003    Nucleotide transport and metabolism  rpoD,arcA,crp,fnr,lrp   \n",
       "b0004    Amino acid transport and metabolism  rpoD,arcA,crp,fnr,lrp   \n",
       "b0005                       Function unknown                    NaN   \n",
       "b0006                       Function unknown                    NaN   \n",
       "...                                      ...                    ...   \n",
       "b4688                       Function unknown                    NaN   \n",
       "b4693                          Transcription                    NaN   \n",
       "b4696_1                    No COG Annotation                    NaN   \n",
       "b4696_2                    No COG Annotation                    NaN   \n",
       "b4705                      No COG annotation          rpoD,mntR,nac   \n",
       "\n",
       "                                    operon      start        end strand  \n",
       "b0002                              thrLABC      337.0     2799.0      +  \n",
       "b0003                              thrLABC     2801.0     3733.0      +  \n",
       "b0004                              thrLABC     3734.0     5020.0      +  \n",
       "b0005                                 yaaX     5234.0     5530.0      +  \n",
       "b0006                                 yaaA     5683.0     6459.0      -  \n",
       "...                                    ...        ...        ...    ...  \n",
       "b4688                                 ykgS   290510.0   290638.0      +  \n",
       "b4693    ymfTLMNR-beeE-jayE-ymfQ-ycfK-tfaP  1204401.0  1205537.0      +  \n",
       "b4696_1                               ydeK  1594126.0  1597987.0      -  \n",
       "b4696_2                               ydeK  1592664.0  1594125.0      -  \n",
       "b4705                            rybA-mntS   852869.0   852997.0      -  \n",
       "\n",
       "[3887 rows x 8 columns]"
      ]
     },
     "execution_count": 33,
     "metadata": {},
     "output_type": "execute_result"
    }
   ],
   "source": [
    "gene_table\n",
    "#then go to the website for more info"
   ]
  },
  {
   "cell_type": "markdown",
   "metadata": {},
   "source": []
  },
  {
   "cell_type": "markdown",
   "metadata": {},
   "source": [
    "### Regularization\n",
    "\n",
    "#### Discuss regularization\n",
    "\n",
    "1. What is regularization and what is its goal?\n",
    "2. What is the difference between L1 and L2 regularization? \n",
    "    1. What do they each do to the distribution of coefficients? \n",
    "    2. Why would you use one or the other?\n",
    "\n",
    "<span style=\"color:red\">5 points</span>"
   ]
  },
  {
   "cell_type": "markdown",
   "metadata": {},
   "source": []
  },
  {
   "cell_type": "markdown",
   "metadata": {},
   "source": [
    "#### Vary the Regularization and Re-evaluate Performance\n",
    "\n",
    "Vary the L1 and L2 regularization strengths and retrain your model, then evaluate each regularization with a good metric from your answer to problem 1.3. Visualize your results and comment on them -- what is the overall effect of regularization in this case, and is your metric more sensitive to one type of regularization over the other?\n",
    "\n",
    "What specific values of the parameters would you recommend using based on this analysis?\n",
    "\n",
    "<span style=\"color:red\">10 points</span>"
   ]
  },
  {
   "cell_type": "code",
   "execution_count": null,
   "metadata": {
    "scrolled": true
   },
   "outputs": [],
   "source": []
  },
  {
   "cell_type": "markdown",
   "metadata": {},
   "source": []
  },
  {
   "cell_type": "markdown",
   "metadata": {},
   "source": [
    "### PR and ROC Curves\n",
    "\n",
    "The prediction algorithm of logistic regression works like this:\n",
    "\n",
    "1. Obtain the dot product of the learned weights and sample's features\n",
    "2. Transform the linear value with a logistic function to obtain a probability p\n",
    "3. Threshold the probability p to make a True/False call\n",
    "\n",
    "PR and ROC curves are designed to help place the threshold assigned in step 3. You can obtain the probabilites from step 2 using .predict_proba().\n",
    "\n",
    "Create PR and ROC curves for your **unregularized** model. (If you are curious, try it with your regularized model, too). Also plot a histogram of your probabilities to help you interpret them. Be sure to include the area under the ROC curve. Explain the shape of the curves and comment on the quality of your model. What value should be used for the threshold?\n",
    "\n",
    "<span style=\"color:red\">10 points</span>"
   ]
  },
  {
   "cell_type": "code",
   "execution_count": null,
   "metadata": {
    "scrolled": true
   },
   "outputs": [],
   "source": []
  },
  {
   "cell_type": "markdown",
   "metadata": {},
   "source": []
  },
  {
   "cell_type": "markdown",
   "metadata": {},
   "source": [
    "### Use Bootstrapping to Obtain Confidence Intervals\n",
    "\n",
    "Bootstrapping can be used to obtain value distributions for your performance and feature importance across a large random sample of possible train/test splits.\n",
    "\n",
    "#### Bootstrapping Performance\n",
    "\n",
    "Bootstrap your train/test split and run logistic regression 100x. Make sure you still keep replicates from the same condition together. Use your recommended regularization parameters from 1.5.2. Each time, save the six performance measures for the testing data from problem 1.3 as well as the gene coefficient vector. \n",
    "\n",
    "Obtain medians and 90% confidence intervals for all performance metric results. Visualize them in a table or plot. Comment on them -- is there a lot of variation based on the conditions chosen for the training data? Did your bootstrapped models perform better or worse than your initial train/test split?\n",
    "\n",
    "<span style=\"color:red\">10 points</span>"
   ]
  },
  {
   "cell_type": "code",
   "execution_count": null,
   "metadata": {
    "scrolled": true
   },
   "outputs": [],
   "source": []
  },
  {
   "cell_type": "markdown",
   "metadata": {},
   "source": []
  },
  {
   "cell_type": "markdown",
   "metadata": {},
   "source": [
    "#### Bootstrapping Gene Coefficients\n",
    "\n",
    "Perform median and 90% confidence interval calculations on your gene coefficients. Look at the top 5 genes (by their medians) and discuss them. Are these related to the actual problem, or are they more affected by other underlying variables?\n",
    "\n",
    "<span style=\"color:red\">5 points</span>"
   ]
  },
  {
   "cell_type": "code",
   "execution_count": null,
   "metadata": {},
   "outputs": [],
   "source": []
  },
  {
   "cell_type": "markdown",
   "metadata": {},
   "source": []
  },
  {
   "cell_type": "markdown",
   "metadata": {},
   "source": [
    "## Decision Trees\n",
    "\n",
    "Decision trees make great classifiers, but they can also be used as regression trees to predict a scalar value. Let's make a regression tree that predicts growth rate based on gene expression.\n",
    "\n",
    "### Summarize Decision Trees\n",
    "\n",
    "Summarize the following:\n",
    "\n",
    "1. What is a decision tree, and how is it traversed?\n",
    "2. How is it made?\n",
    "3. The difference between a classification decision tree and a regression tree\n",
    "4. Strengths and weaknesses as a method\n",
    "5. The following regularization methods:\n",
    "    1. Boosting/early stopping\n",
    "    2. Bagging/random forests\n",
    "    \n",
    "<span style=\"color:red\">10 points</span>"
   ]
  },
  {
   "cell_type": "markdown",
   "metadata": {},
   "source": []
  },
  {
   "cell_type": "markdown",
   "metadata": {},
   "source": [
    "### Make a Train/Test Split For Growth Rate Determination\n",
    "\n",
    "Remove the samples that are not annotated with growth rate. Then, make a 4:1 Train/Test split of the remaining **conditions** as you did for problem 1.2 (except with no need to make a distinction between classes, and a larger train to test ratio due to the smaller amount of available data).\n",
    "\n",
    "<span style=\"color:red\">5 points</span>"
   ]
  },
  {
   "cell_type": "code",
   "execution_count": null,
   "metadata": {
    "scrolled": true
   },
   "outputs": [],
   "source": []
  },
  {
   "cell_type": "markdown",
   "metadata": {},
   "source": [
    "### Train a Regression Tree & Evaluate Performance\n",
    "\n",
    "Train and test a Decision Tree Regressor using the split you just defined. Create a scatter plot comparing the predicted values with the actual ones. Also quantify the mean squared error, mean absolute error, explained variance, and R^2 coefficient of determination between your predicted and true growth rates.\n",
    "\n",
    "<span style=\"color:red\">10 points</span>"
   ]
  },
  {
   "cell_type": "code",
   "execution_count": null,
   "metadata": {},
   "outputs": [],
   "source": []
  },
  {
   "cell_type": "markdown",
   "metadata": {},
   "source": [
    "### Show the Tree Structure & Comment on Top Genes\n",
    "\n",
    "Visualize the tree structure. Comment on it and at least its top three genes. It may be helpful to name the features by gene_name. How would you traverse it to get to the lowest possible growth rates? The highest possible growth rates?\n",
    "\n",
    "<span style=\"color:red\">10 points</span>"
   ]
  },
  {
   "cell_type": "code",
   "execution_count": null,
   "metadata": {},
   "outputs": [],
   "source": []
  },
  {
   "cell_type": "markdown",
   "metadata": {},
   "source": []
  }
 ],
 "metadata": {
  "kernelspec": {
   "display_name": "Python 3 (ipykernel)",
   "language": "python",
   "name": "python3"
  },
  "language_info": {
   "codemirror_mode": {
    "name": "ipython",
    "version": 3
   },
   "file_extension": ".py",
   "mimetype": "text/x-python",
   "name": "python",
   "nbconvert_exporter": "python",
   "pygments_lexer": "ipython3",
   "version": "3.9.13"
  },
  "toc": {
   "base_numbering": 1,
   "nav_menu": {},
   "number_sections": true,
   "sideBar": true,
   "skip_h1_title": true,
   "title_cell": "Table of Contents",
   "title_sidebar": "Contents",
   "toc_cell": true,
   "toc_position": {},
   "toc_section_display": true,
   "toc_window_display": false
  },
  "varInspector": {
   "cols": {
    "lenName": 16,
    "lenType": 16,
    "lenVar": 40
   },
   "kernels_config": {
    "python": {
     "delete_cmd_postfix": "",
     "delete_cmd_prefix": "del ",
     "library": "var_list.py",
     "varRefreshCmd": "print(var_dic_list())"
    },
    "r": {
     "delete_cmd_postfix": ") ",
     "delete_cmd_prefix": "rm(",
     "library": "var_list.r",
     "varRefreshCmd": "cat(var_dic_list()) "
    }
   },
   "types_to_exclude": [
    "module",
    "function",
    "builtin_function_or_method",
    "instance",
    "_Feature"
   ],
   "window_display": false
  }
 },
 "nbformat": 4,
 "nbformat_minor": 2
}
